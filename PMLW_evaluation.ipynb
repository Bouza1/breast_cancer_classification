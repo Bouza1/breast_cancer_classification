{
 "nbformat": 4,
 "nbformat_minor": 0,
 "metadata": {
  "colab": {
   "provenance": [],
   "authorship_tag": "ABX9TyN1PB0aYhnvPEqYoDI8q7Xa",
   "include_colab_link": true
  },
  "kernelspec": {
   "name": "python3",
   "display_name": "Python 3"
  },
  "language_info": {
   "name": "python"
  }
 },
 "cells": [
  {
   "cell_type": "markdown",
   "metadata": {
    "id": "view-in-github",
    "colab_type": "text"
   },
   "source": [
    "<a href=\"https://colab.research.google.com/github/Bouza1/breast_cancer_classification/blob/main/Untitled5.ipynb\" target=\"_parent\"><img src=\"https://colab.research.google.com/assets/colab-badge.svg\" alt=\"Open In Colab\"/></a>"
   ]
  },
  {
   "cell_type": "markdown",
   "source": [
    "# Proposed, improved, Machine Learning Workflow (PMLW)\n",
    "\n",
    "The proposed, improved machine learning workflow (PMLW) is described below and aims to address the failures of CMLW and issues found in the data exploration stage.\n",
    "\n",
    "Within the experimental results section you can see the PMLW in action and the metrics it can achieve."
   ],
   "metadata": {
    "id": "x3OKmoc0DSlF"
   }
  },
  {
   "cell_type": "markdown",
   "source": [
    "## 1.   Data Preprocessing\n",
    "\n",
    "The exploration of the dataset plays a vital role in informing the decisions for the PMLW. One of the first issues to address is missing values, to alleviate this a K-Nearest Neighbour (KNN) imputation is performed on\n",
    "the whole dataset by utilizing the KNNImputer() from the Sci-Kit Learn library. The use of KNN imputation is spearheaded by its ability to capture complex patterns and relationships among the data when missing values are related to observed values such as those denoted in Figure 4 .\n",
    "\n",
    "To mitigate the large fluctuation of numerical values seen in Appendix B, all feature variables will undergo Z-Score normalization (equation F) by using the StandardScaler() function from the Sci-Kit Learn library. All\n",
    "numerical values are to be “normalized using mean and SD (Standard Deviation) of each attribute such that the resulting attributes possess zero mean and unit variance,” Singh & Singh, 2021. The use of Z-score\n",
    "normalization is boosted by its inability to be affected by extreme values, of which the dataset has many. A fair comparison is drawn against min-max scaling in the evaluation section.\n",
    "\n",
    "Recursive Feature Elimination (RFE), the RFE() function from the Sci-Kit Learn library is performed on the dataset to eliminate the most redundant features and reduce the size of the feature vector. The RFE is\n",
    "conducted twice, once with a Random Forest Classifier, RandomForestClassifier(), and once with a Support Vector Machine, SVC() both from the Sci-Kit Learn library. A dataset for each of the selected features will be made with and evaluated on all 3 models (3.2) with a comparison of results shown in the Experimental results section.\n",
    "\n",
    "To address the class imbalance an oversampling approach is put forth to utilize the Synthetic Minority Over-Sampling Technique (SMOTE), first proposed by Chawla et al., 2002, and later implemented as the Smote() function from the Sci-Kit learn library. SMOTE ensures that no data from the original dataset is lost while ensuring equilibrium of the class balance at a 50/50 split by “creating synthetic examples rather than over-sampling with duplicated real data entries”, Rahman & Davis, 2013. The justification for choosing to\n",
    "oversample is that the dataset is of minimal size and under sampling would lead to a more reduced dataset in terms of size and a loss of valuable data by eliminating a third of the original dataset.\n"
   ],
   "metadata": {
    "id": "jcmK7wYHDoi0"
   }
  },
  {
   "cell_type": "markdown",
   "source": [
    "## 2.   Model Selection\n",
    "\n",
    "The proposed models can be seen in the table below, a base result for each model will be taken as a comparison for future performances.\n",
    "\n",
    "\n",
    "\\begin{array}{ccc}\n",
    "\\text{Key}&\\text{Model}&\\text{Sci-Kit Learn Function}\\\\\n",
    "LR&Logistic Regression&LogisticRegression()\\\\\n",
    "SVM&Support Vector Machine&SVC()\\\\\n",
    "RF&Random Forest&RandomForestClassifier()\n",
    "\\end{array}\n",
    "\n",
    "\n",
    "The highest performing model will undergo hyper-parameter optimization, using GridSearchCV() from the Sci-Kit Learn Library.\n",
    "\n"
   ],
   "metadata": {
    "id": "p12W1BRcERNS"
   }
  },
  {
   "cell_type": "markdown",
   "source": [
    "## 3.   Validation\n",
    "\n",
    "Validation will happen, during the stages of feature elimination using 10-fold cross validation, as a quick but computationally effective way to make the decisions needs when selecting which dataset prohibits the greatest accuracy. Holdout validation will be applied during the final model validation process. Metrics of accuracy, recall, and precision (equation D) are to be taken for all models and processes to provide a robust comparison across the PMLW. The recall score), the ratio of “correctly classified samples over all the samples\n",
    "of a given class,” Bin Rafiq et al., 2020 , is the most effective metric to take within the realms of breast cancer diagnosis. Simply because the cost of misclassified a malignant tumour could be one of fatality. As such more emphasis is to be placed on the recall score compared to the precision score."
   ],
   "metadata": {
    "id": "eTCEXUeKFgz2"
   }
  },
  {
   "cell_type": "markdown",
   "source": [
    "# Experimental Results"
   ],
   "metadata": {
    "id": "vE51D5TEF4jx"
   }
  },
  {
   "cell_type": "markdown",
   "source": [
    "# Imports"
   ],
   "metadata": {
    "id": "t0Ty1FVBGkIv"
   }
  },
  {
   "cell_type": "code",
   "source": [
    "# Data and Datasets\n",
    "import pandas as pd\n",
    "import numpy as np\n",
    "\n",
    "# Validation methods\n",
    "from sklearn.model_selection import train_test_split\n",
    "from sklearn.model_selection import cross_val_score\n",
    "from sklearn.model_selection import cross_validate\n",
    "from sklearn.model_selection import KFold\n",
    "\n",
    "# Metrics\n",
    "from sklearn import metrics\n",
    "from sklearn.metrics import accuracy_score\n",
    "from sklearn.metrics import precision_score\n",
    "from sklearn.metrics import recall_score\n",
    "from sklearn.metrics import confusion_matrix\n",
    "\n",
    "# Classifiers\n",
    "from sklearn.linear_model import LogisticRegression\n",
    "from sklearn.ensemble import RandomForestClassifier\n",
    "from sklearn.svm import SVC\n",
    "from sklearn.pipeline import make_pipeline\n",
    "\n",
    "# Scale + Impute\n",
    "from sklearn.impute import KNNImputer\n",
    "from sklearn.preprocessing import StandardScaler\n",
    "from sklearn.preprocessing import MinMaxScaler\n",
    "\n",
    "# Hyper-parameter optimisation\n",
    "from sklearn.model_selection import GridSearchCV\n",
    "\n",
    "# Feature selection & feature engineering\n",
    "from sklearn.feature_selection import RFE\n",
    "\n",
    "# Visualisation\n",
    "import matplotlib.pyplot as plt\n",
    "import seaborn as sns\n",
    "\n",
    "# Sampling\n",
    "from imblearn.over_sampling import SMOTE\n",
    "\n",
    "# Utils\n",
    "from matplotlib.patches import Patch"
   ],
   "metadata": {
    "id": "L9Pw5Bu2GjQ9"
   },
   "execution_count": 1,
   "outputs": []
  },
  {
   "cell_type": "markdown",
   "source": [
    "# Utils"
   ],
   "metadata": {
    "id": "LwLgMlmRIO1d"
   }
  },
  {
   "cell_type": "code",
   "source": [
    "# This makes for quicker yet fair comparisons between different models. Eventually, holdout and cross validation will be used to gain a true reflection of the different model performances.\n",
    "rand_state = 20\n",
    "\n",
    "# Visualisation Colours And Labels\n",
    "colour_list = ['steelblue', 'peachpuff']\n",
    "corr_colours = sns.diverging_palette(230, 20, as_cmap=True)\n",
    "formatted_labels = ['Benign','Malignant']"
   ],
   "metadata": {
    "id": "QbuAkPYHGtdY"
   },
   "execution_count": 35,
   "outputs": []
  },
  {
   "cell_type": "code",
   "source": [
    "from google.colab import drive\n",
    "drive.mount('/content/drive')"
   ],
   "metadata": {
    "colab": {
     "base_uri": "https://localhost:8080/"
    },
    "id": "KY5CaBxRIRY6",
    "outputId": "d0224737-84fc-4aac-b8ff-b9b0271f8df7"
   },
   "execution_count": 11,
   "outputs": [
    {
     "output_type": "stream",
     "name": "stdout",
     "text": [
      "Mounted at /content/drive\n"
     ]
    }
   ]
  },
  {
   "cell_type": "markdown",
   "source": [
    "## Load & Basic Format Dataset"
   ],
   "metadata": {
    "id": "7lXmw7hWHHFJ"
   }
  },
  {
   "cell_type": "code",
   "source": [
    "def format_data_set():\n",
    "  ''' loads the datset, drops id column and encodes target variable'''\n",
    "  # df = pd.read_csv('/content/drive/MyDrive/breast-cancer.csv')\n",
    "  df = pd.read_csv('data/breast-cancer.csv')\n",
    "  class_map = {\"B\":0,\"M\":1}\n",
    "  df['class'] = df['class'].map(class_map)\n",
    "  df = df.drop(['id'], axis=1)\n",
    "  return df"
   ],
   "metadata": {
    "id": "wBJbGCTSHGme"
   },
   "execution_count": 3,
   "outputs": []
  },
  {
   "cell_type": "markdown",
   "source": [
    "## Missing Values"
   ],
   "metadata": {
    "id": "u1FzYzgaHP-C"
   }
  },
  {
   "cell_type": "code",
   "source": [
    "def impute_missing_values_KNN():\n",
    "  ''' Imputes Missing Values using K-Nearest Neighbour'''\n",
    "  df = pd.read_csv('/content/drive/MyDrive/breast-cancer.csv')\n",
    "  df = df.drop(['id'], axis=1)\n",
    "  df.replace(0, np.nan, inplace=True)\n",
    "  missing_value_rows = (df[df.isna().any(axis=1)])\n",
    "  for index, row in missing_value_rows.iterrows():\n",
    "      missing_columns = row.index[row.isnull()]\n",
    "      if len(missing_columns) > 15:\n",
    "        df.drop(index, inplace=True)\n",
    "  imputer = KNNImputer(n_neighbors=3)\n",
    "  class_map = {\"B\":0,\"M\":1}\n",
    "  df['class'] = df['class'].map(class_map)\n",
    "  return pd.DataFrame(imputer.fit_transform(df), columns=df.columns)\n",
    "\n",
    "def drop_all_missing_values():\n",
    "  '''Drops All Rows With NaNs or 0, Then Encodes The Target Variable'''\n",
    "  df = pd.read_csv('/content/drive/MyDrive/breast-cancer.csv')\n",
    "  df = df[(df != 0).all(axis=1)].dropna()\n",
    "  class_map = {\"B\":0,\"M\":1}\n",
    "  df['class'] = df['class'].map(class_map)\n",
    "  return df"
   ],
   "metadata": {
    "id": "I30UUMOfHSRR"
   },
   "execution_count": 13,
   "outputs": []
  },
  {
   "cell_type": "markdown",
   "source": [
    "## Normalization"
   ],
   "metadata": {
    "id": "ek_UoL9KHbJA"
   }
  },
  {
   "cell_type": "code",
   "source": [
    "def scale_data_zscore(train, test):\n",
    "  ''' Scales Numerical Values Using Z-Score Standardization'''\n",
    "  scaler = StandardScaler()\n",
    "  scaled_train = scaler.fit_transform(train)\n",
    "  scaled_test = scaler.transform(test)\n",
    "  return scaled_train, scaled_test\n",
    "\n",
    "def scale_data_minmax(train, test):\n",
    "  ''' Scales Numerical Values Between 0-1 '''\n",
    "  scaler = MinMaxScaler()\n",
    "  scaled_train = scaler.fit_transform(train)\n",
    "  scaled_test = scaler.transform(test)\n",
    "  return scaled_train, scaled_test\n"
   ],
   "metadata": {
    "id": "l6yzB1O1Hdq4"
   },
   "execution_count": 5,
   "outputs": []
  },
  {
   "cell_type": "markdown",
   "source": [
    "## Over-Sampling"
   ],
   "metadata": {
    "id": "lBZxusyOHfRI"
   }
  },
  {
   "cell_type": "code",
   "source": [
    "def oversample(train_x, train_y):\n",
    "  ''' Over samples the dataset and addresses the class imbalance'''\n",
    "  smote = SMOTE(random_state=rand_state)\n",
    "  X_smote, y_smote = smote.fit_resample(train_x, train_y)\n",
    "  return X_smote, y_smote"
   ],
   "metadata": {
    "id": "D2_Km44iHjfP"
   },
   "execution_count": 7,
   "outputs": []
  },
  {
   "cell_type": "markdown",
   "source": [],
   "metadata": {
    "id": "g1As8AD5Hnnp"
   }
  },
  {
   "cell_type": "markdown",
   "metadata": {
    "id": "ne1fiiHArOds"
   },
   "source": [
    "## Recursive Feature Elimination (RFE)\n",
    "\n",
    "\n",
    "Feature selection is performed using Recursive Feature Elimination.\n",
    "Two datasets are drawn, one via the feature rankings of SVC(), support vector machine, and one by the feature rankings of the RandomForestClassifier(), random forest algorithm."
   ]
  },
  {
   "cell_type": "code",
   "source": [
    "# Stores the feature names selected by the RFE algorithms so they can be called upon later when formatting optimal datasets.\n",
    "feature_selection_dict = {\"RFE - RF\":[], \"RFE - SVM\":[]}"
   ],
   "metadata": {
    "id": "GxawdIsKHyEo"
   },
   "execution_count": 8,
   "outputs": []
  },
  {
   "cell_type": "markdown",
   "source": [
    "#### RFE - Random Forest"
   ],
   "metadata": {
    "id": "RtWVknmHIxM7"
   }
  },
  {
   "cell_type": "code",
   "source": [
    "df = pd.read_csv('/content/drive/MyDrive/breast-cancer.csv')\n",
    "df = impute_missing_values_KNN()\n",
    "X = df.iloc[:,:len(df.columns)-1]\n",
    "y = df.iloc[:,len(df.columns)-1]\n",
    "X_train, X_test, y_train, y_test = train_test_split(X, y, test_size=0.3, random_state=rand_state)"
   ],
   "metadata": {
    "id": "4qEpSktqH0lQ"
   },
   "execution_count": 14,
   "outputs": []
  },
  {
   "cell_type": "code",
   "source": [
    "num_features_range = range(1, len(X.columns.tolist()) + 1)\n",
    "\n",
    "rf_accuracy_results = []\n",
    "rf_best_features_list = []\n",
    "\n",
    "# Iterate over different numbers of features while capturing accuracy, and storing features selected when accuracy is greatest.\n",
    "for num_features in num_features_range:\n",
    "\n",
    "    model_rfe = RandomForestClassifier(n_estimators=10, random_state=rand_state)\n",
    "\n",
    "    rfe = RFE(model_rfe, n_features_to_select=num_features)\n",
    "    X_train_rfe = rfe.fit_transform(X_train, y_train)\n",
    "\n",
    "    model_rfe.fit(X_train_rfe, y_train)\n",
    "\n",
    "    X_test_rfe = rfe.transform(X_test)\n",
    "    y_pred = model_rfe.predict(X_test_rfe)\n",
    "\n",
    "    accuracy = accuracy_score(y_test, y_pred)\n",
    "    rf_accuracy_results.append(accuracy)\n",
    "\n",
    "    selected_features_indices = np.where(rfe.support_)[0]\n",
    "    rf_best_features_list.append(selected_features_indices)"
   ],
   "metadata": {
    "id": "qBWV1M9XH8ZQ"
   },
   "execution_count": 15,
   "outputs": []
  },
  {
   "cell_type": "code",
   "source": [
    "optimal_num_features_index = rf_accuracy_results.index(max(rf_accuracy_results))\n",
    "optimal_num_features = num_features_range[optimal_num_features_index]\n",
    "optimal_accuracy = rf_accuracy_results[optimal_num_features_index]\n",
    "optimal_best_features = rf_best_features_list[optimal_num_features_index]\n",
    "\n",
    "feature_selection_dict[\"RFE - RF\"] = X.columns[optimal_best_features].tolist()"
   ],
   "metadata": {
    "id": "baRmDSTaI7jP"
   },
   "execution_count": 16,
   "outputs": []
  },
  {
   "cell_type": "code",
   "source": [
    "print(f\"Optimal Number Of Features: {optimal_num_features}\")\n",
    "print(f\"Accuracy on test set: {round(optimal_accuracy, 4)}\")\n",
    "print(f\"Optimal Features: {X.columns[optimal_best_features].tolist()}\")"
   ],
   "metadata": {
    "colab": {
     "base_uri": "https://localhost:8080/"
    },
    "id": "Dpu8v783I9dp",
    "outputId": "d86040a3-41fc-424e-b2dd-6a8ae7f93635"
   },
   "execution_count": 17,
   "outputs": [
    {
     "output_type": "stream",
     "name": "stdout",
     "text": [
      "Optimal Number Of Features: 14\n",
      "Accuracy on test set: 0.9941\n",
      "Optimal Features: ['texture_mean', 'perimter_mean', 'compactness_mean', 'concavity_mean', 'concave_points_mean', 'area_error', 'radius_worst', 'texture_worst', 'perimeter_worst', 'area_worst', 'smoothness_worst', 'concavity_worst', 'concave_points_worst', 'symmetry_worst']\n"
     ]
    }
   ]
  },
  {
   "cell_type": "markdown",
   "source": [
    "#### RFE - Support Vector Machine"
   ],
   "metadata": {
    "id": "aMExJKvNJG1z"
   }
  },
  {
   "cell_type": "code",
   "source": [
    "df = impute_missing_values_KNN()\n",
    "X = df.iloc[:,:len(df.columns)-1]\n",
    "y = df.iloc[:,len(df.columns)-1]\n",
    "X_train, X_test, y_train, y_test = train_test_split(X, y, test_size=0.3, random_state=rand_state)\n",
    "X_train, X_test = scale_data_zscore(X_train, X_test)"
   ],
   "metadata": {
    "id": "l_NSpxw4JFqo"
   },
   "execution_count": 18,
   "outputs": []
  },
  {
   "cell_type": "code",
   "source": [
    "svm_accuracy_results = []\n",
    "svm_best_features_list = []\n",
    "\n",
    "# Iterate over different numbers of features while capturing accuracy, and storing features selected when accuracy is greatest.\n",
    "for num_features in num_features_range:\n",
    "\n",
    "    model_rfe = SVC(kernel='linear', random_state=rand_state)\n",
    "\n",
    "    rfe = RFE(model_rfe, n_features_to_select=num_features)\n",
    "    X_train_rfe = rfe.fit_transform(X_train, y_train)\n",
    "\n",
    "    model_rfe.fit(X_train_rfe, y_train)\n",
    "\n",
    "    X_test_rfe = rfe.transform(X_test)\n",
    "    y_pred = model_rfe.predict(X_test_rfe)\n",
    "\n",
    "    accuracy = accuracy_score(y_test, y_pred)\n",
    "    svm_accuracy_results.append(accuracy)\n",
    "\n",
    "    selected_features_indices = np.where(rfe.support_)[0]\n",
    "    svm_best_features_list.append(selected_features_indices)"
   ],
   "metadata": {
    "id": "TuBcYGb5JSEm"
   },
   "execution_count": 19,
   "outputs": []
  },
  {
   "cell_type": "code",
   "source": [
    "optimal_num_features_index = svm_accuracy_results.index(max(svm_accuracy_results))\n",
    "optimal_num_features = num_features_range[optimal_num_features_index]\n",
    "optimal_accuracy = svm_accuracy_results[optimal_num_features_index]\n",
    "optimal_best_features = svm_best_features_list[optimal_num_features_index]\n",
    "\n",
    "feature_selection_dict[\"RFE - SVM\"] = X.columns[optimal_best_features].tolist()"
   ],
   "metadata": {
    "id": "zdcRHcN4JUVv"
   },
   "execution_count": 20,
   "outputs": []
  },
  {
   "cell_type": "code",
   "source": [
    "print(f\"Optimal Number Of Features: {optimal_num_features}\")\n",
    "print(f\"Recall on test set: {round(optimal_accuracy, 4)}\")\n",
    "print(f\"Optimal Features: {X.columns[optimal_best_features].tolist()}\")"
   ],
   "metadata": {
    "colab": {
     "base_uri": "https://localhost:8080/"
    },
    "id": "aWHuR7aBJW_H",
    "outputId": "26bda7c5-d1fe-49e1-acab-effd706acdab"
   },
   "execution_count": 21,
   "outputs": [
    {
     "output_type": "stream",
     "name": "stdout",
     "text": [
      "Optimal Number Of Features: 7\n",
      "Recall on test set: 0.9882\n",
      "Optimal Features: ['compactness_mean', 'concave_points_mean', 'area_error', 'texture_worst', 'area_worst', 'concave_points_worst', 'symmetry_worst']\n"
     ]
    }
   ]
  },
  {
   "cell_type": "markdown",
   "source": [
    "#### RFE - Results Comparison"
   ],
   "metadata": {
    "id": "rHLZhhBQJiWw"
   }
  },
  {
   "cell_type": "code",
   "source": [
    "plt.figure(figsize=(10, 6))\n",
    "plt.plot(num_features_range, rf_accuracy_results, marker='o', linestyle='-', color='b', label='RFE - RF')\n",
    "plt.plot(num_features_range, svm_accuracy_results, marker='o', linestyle='-', color='r', label='RFE - SVM')\n",
    "plt.title('Number of Features vs Accuracy using RFE')\n",
    "plt.xlabel('Number of Features')\n",
    "plt.ylabel('Accuracy')\n",
    "plt.legend()\n",
    "plt.grid(True)\n",
    "plt.show()"
   ],
   "metadata": {
    "colab": {
     "base_uri": "https://localhost:8080/",
     "height": 564
    },
    "id": "lsX9AUrbJjuY",
    "outputId": "24eb4dec-dcb2-477e-d426-a8c53a39fafd"
   },
   "execution_count": 22,
   "outputs": [
    {
     "output_type": "display_data",
     "data": {
      "text/plain": [
       "<Figure size 1000x600 with 1 Axes>"
      ],
      "image/png": "[encoded data removed]"
     },
     "metadata": {}
    }
   ]
  },
  {
   "cell_type": "markdown",
   "source": [
    "#### Comments:\n",
    "\n",
    "The chart above shows the accuracy of SVM to be optimal when 7 features were used  while the RandomForest rquired 14 features. 10-fold Validation will be carried out against bas emodels and both datasets to see which dataset and models are the best performing."
   ],
   "metadata": {
    "id": "A605VG-lJwmh"
   }
  },
  {
   "cell_type": "markdown",
   "source": [
    "### 10-Fold Validation of chosen datasets\n",
    "Please Note: Results may not be 100% correct to the concluding remarks below because the random state is not set.\n",
    "\n"
   ],
   "metadata": {
    "id": "sGmo6LoQJzdZ"
   }
  },
  {
   "cell_type": "code",
   "source": [
    "def return_features_selected_data_sets(input_df, feature_group):\n",
    "  ''' Returns a dataset comprising of the selected feature groups'''\n",
    "  new_df = input_df[feature_selection_dict[feature_group]]\n",
    "  return new_df\n",
    "\n",
    "def add_feautures_score(results_dict, model, dataset, accuracy, std_dev):\n",
    "  ''' Adds score to result dict'''\n",
    "  results_dict[model][dataset][\"accuracy\"] = accuracy\n",
    "  results_dict[model][dataset][\"std\"] = std_dev"
   ],
   "metadata": {
    "id": "4jQY2twWJ6n1"
   },
   "execution_count": 23,
   "outputs": []
  },
  {
   "cell_type": "code",
   "source": [
    "# 10 Fold Validation of Feature Datasets on Base Models\n",
    "feature_score_valid_dict = {\"LR\":{\"name\":\"Logistic Regression After Feature Selection\",\"RFE - SVM\":{\"accuracy\":0, \"std\":0}, \"RFE - RF\":{\"accuracy\":0, \"std\":0}},\n",
    "                            \"RF\":{\"name\":\"Random Forest After Feature Selection\", \"RFE - SVM\":{\"accuracy\":0, \"std\":0}, \"RFE - RF\":{\"accuracy\":0, \"std\":0}},\n",
    "                            \"SVM\":{\"name\":\"Support Vector Machine After Feature Selection\", \"RFE - SVM\":{\"accuracy\":0, \"std\":0}, \"RFE - RF\":{\"accuracy\":0, \"std\":0}}\n",
    "                            }"
   ],
   "metadata": {
    "id": "I_-C7rebKNkN"
   },
   "execution_count": 30,
   "outputs": []
  },
  {
   "cell_type": "code",
   "source": [
    "chosen_models = {\"LR\":{\"model\":LogisticRegression(), \"scale\":True, \"name\":\"Logistic Regression\"}, \"RF\":{\"model\":RandomForestClassifier(), \"scale\":False, \"name\":\"Random Forest\"}, \"SVM\":{\"model\":SVC(), \"scale\":True, \"name\":\"Support Vector Machine\"}}\n",
    "datasets = ['RFE - SVM', 'RFE - RF']"
   ],
   "metadata": {
    "id": "jT8me1NxKQ13"
   },
   "execution_count": 31,
   "outputs": []
  },
  {
   "cell_type": "code",
   "source": [
    "for dataset in datasets:\n",
    "  df = impute_missing_values_KNN()\n",
    "  X = df.iloc[:, :len(df.columns) - 1]\n",
    "  y = df.iloc[:, len(df.columns) - 1]\n",
    "  X = return_features_selected_data_sets(X, dataset)\n",
    "  X_smote, y_smote = oversample(X,y)\n",
    "  for key, model in chosen_models.items():\n",
    "    if model['scale']:\n",
    "        new_model = make_pipeline(StandardScaler(), model['model'])\n",
    "    else:\n",
    "        new_model = model['model']\n",
    "\n",
    "    kf = KFold(n_splits=10, shuffle=True)\n",
    "\n",
    "    cross_val_scores = cross_val_score(new_model, X_smote, y_smote, cv=kf)\n",
    "    add_feautures_score(feature_score_valid_dict, key, dataset, np.mean(cross_val_scores), np.std(cross_val_scores))"
   ],
   "metadata": {
    "id": "3qSWNzXHKTug"
   },
   "execution_count": 32,
   "outputs": []
  },
  {
   "cell_type": "code",
   "source": [
    "for key, results in feature_score_valid_dict.items():\n",
    "  print('\\n')\n",
    "  print(results['name'])\n",
    "  print(f\"RFE-RF: {results['RFE - RF']['accuracy']}\")\n",
    "  print(f\"RFE - SVM: {results['RFE - SVM']['accuracy']}\")"
   ],
   "metadata": {
    "colab": {
     "base_uri": "https://localhost:8080/"
    },
    "id": "QeZsyeFqKUeC",
    "outputId": "be27e719-d142-4e66-b46a-5ef871321ad0"
   },
   "execution_count": 33,
   "outputs": [
    {
     "output_type": "stream",
     "name": "stdout",
     "text": [
      "\n",
      "\n",
      "Logistic Regression After Feature Selection\n",
      "RFE-RF: 0.9788732394366197\n",
      "RFE - SVM: 0.9663145539906104\n",
      "\n",
      "\n",
      "Random Forest After Feature Selection\n",
      "RFE-RF: 0.9775430359937403\n",
      "RFE - SVM: 0.974706572769953\n",
      "\n",
      "\n",
      "Support Vector Machine After Feature Selection\n",
      "RFE-RF: 0.9761345852895147\n",
      "RFE - SVM: 0.9719287949921753\n"
     ]
    }
   ]
  },
  {
   "cell_type": "markdown",
   "source": [
    "#### Comments:\n",
    "\n",
    "The results indicate that the RFE-RF Dataset was the optimal dataset, in terms of performance, for all base models. As such, moving forward the focus will be on RFE-RF as the main dataset."
   ],
   "metadata": {
    "id": "Y5Cjd-OPKtXP"
   }
  },
  {
   "cell_type": "markdown",
   "source": [
    "# Model Selection"
   ],
   "metadata": {
    "id": "LFw2AMbsK4kh"
   }
  },
  {
   "cell_type": "markdown",
   "source": [
    "### Util Functions"
   ],
   "metadata": {
    "id": "2Iq3YP28LCTe"
   }
  },
  {
   "cell_type": "code",
   "source": [
    "def add_result(results_dict, model, y_test, y_pred, multi=False):\n",
    "  ''' Adds a result to a results dictionary'''\n",
    "  if multi:\n",
    "      results_dict[model]['accuracy'].append(accuracy_score(y_test, y_pred))\n",
    "      results_dict[model]['precision'].append(precision_score(y_test, y_pred, average='macro'))\n",
    "      results_dict[model]['recall'].append(recall_score(y_test, y_pred, average='macro'))\n",
    "      results_dict[model]['confusion_matrix'].append(confusion_matrix(y_test, y_pred))\n",
    "  else:\n",
    "    results_dict[model]['accuracy'] = accuracy_score(y_test, y_pred)\n",
    "    results_dict[model]['precision'] = precision_score(y_test, y_pred, average='macro', zero_division=0)\n",
    "    results_dict[model]['recall'] = recall_score(y_test, y_pred, average='macro', zero_division=0)\n",
    "    results_dict[model]['confusion_matrix'] = confusion_matrix(y_test, y_pred)\n",
    "\n",
    "def create_results_frame(results_dict, multi=False):\n",
    "  ''' Creates a dataframe from a results dictionary. Can Handle Holdout Results too by setting multi=True'''\n",
    "  if multi:\n",
    "    result_df = pd.DataFrame(columns=['Model','Accuracy Mean','Accuracy STD', 'Precision Mean', 'Precision STD','Recall Mean', 'Recall STD'])\n",
    "    for result in results_dict:\n",
    "      result_df.loc[len(result_df)] = {'Model':results_dict[result]['name'], 'Accuracy Mean':results_dict[result]['accuracy'][0], 'Accuracy STD':round(results_dict[result]['accuracy'][1], 2), 'Precision Mean':results_dict[result]['precision'][0], 'Precision STD':round(results_dict[result]['precision'][1],2),'Recall Mean':results_dict[result]['recall'][0], 'Recall STD':round(results_dict[result]['recall'][1],2)}\n",
    "    result_df = result_df.sort_values(by=['Accuracy Mean'], ascending=False)\n",
    "  else:\n",
    "    result_df = pd.DataFrame(columns=['Model','Accuracy','Precision','Recall'])\n",
    "    for result in results_dict:\n",
    "      result_df.loc[len(result_df)] = {'Model':results_dict[result]['name'], 'Accuracy':results_dict[result]['accuracy'], 'Precision':results_dict[result]['precision'], 'Recall':results_dict[result]['recall']}\n",
    "    result_df = result_df.sort_values(by=['Accuracy'], ascending=False)\n",
    "  return result_df\n",
    "\n",
    "def show_results_frame(result_df):\n",
    "  ''' Styles and shows a dataframe'''\n",
    "  formatted_df = result_df.style.hide(axis=\"index\")\n",
    "  return formatted_df\n",
    "\n",
    "def show_results_chart(result_df, title):\n",
    "  ''' Styles and shows a dataframe results as a bar chart'''\n",
    "  chart_results = result_df.set_index('Model')\n",
    "  ax = chart_results.plot(kind='bar', rot=45, figsize=(15, 7), colormap='Paired')\n",
    "  for p in ax.patches:\n",
    "    ax.annotate(str(round(p.get_height(), 4)), (p.get_x() + p.get_width() / 2., p.get_height()),ha='center', va='bottom' if p.get_height() >= 0 else 'top', rotation='vertical', xytext=(0, -40) if p.get_height() >= 0 else (0, -10), textcoords='offset points')\n",
    "  plt.xlabel('Model')\n",
    "  plt.ylabel('Score')\n",
    "  plt.title(title)\n",
    "  plt.legend(loc='upper left', bbox_to_anchor=(1, 1))\n",
    "  plt.tight_layout()\n",
    "  plt.show()\n",
    "\n",
    "def print_model_comparison(results_df, model_a, model_b):\n",
    "  ''' Prints Results Of a Model Comparison'''\n",
    "  a_accuracy = results_df.loc[results_df['Model'] == model_a, 'Accuracy'].iloc[0]\n",
    "  a_precision = results_df.loc[results_df['Model'] == model_a, 'Precision'].iloc[0]\n",
    "  a_recall = results_df.loc[results_df['Model'] == model_a, 'Recall'].iloc[0]\n",
    "  b_accuracy = results_df.loc[results_df['Model'] == model_b, 'Accuracy'].iloc[0]\n",
    "  b_precision = results_df.loc[results_df['Model'] == model_b, 'Precision'].iloc[0]\n",
    "  b_recall = results_df.loc[results_df['Model'] == model_b, 'Recall'].iloc[0]\n",
    "  print(f\"Accuracy Difference: {round((a_accuracy - b_accuracy)*100, 2)}%\")\n",
    "  print(f\"Precision Difference: {round((a_precision - b_precision)*100, 2)}%\")\n",
    "  print(f\"Recall Difference: {round((a_recall - b_recall)*100, 2)}%\")\n",
    "\n",
    "def concat_frames(df_array, drop_std=True):\n",
    "  ''' Concats an Array of Dataframes'''\n",
    "  comparison_frame = pd.concat(df_array, ignore_index=True)\n",
    "  comparison_frame = comparison_frame.sort_values(by='Recall')\n",
    "  if drop_std:\n",
    "    to_drop = ['Accuracy STD', 'Precision STD', 'Recall STD']\n",
    "    comparison_frame = comparison_frame.drop(columns=to_drop)\n",
    "  return comparison_frame\n",
    "\n",
    "def plot_multi_confusion_matrix(results):\n",
    "  ''' Plots Multiple Confusion Matrixs '''\n",
    "  fig, axes = plt.subplots(nrows=1, ncols=3, figsize=(14, 6))\n",
    "  i = 0\n",
    "  for model, result in results.items():\n",
    "    sns.heatmap(result['confusion_matrix'], annot=True, fmt='d', cmap='Blues', cbar=False, ax=axes[i], xticklabels=formatted_labels,  yticklabels=formatted_labels)\n",
    "    axes[i].set_title(f'Confusion Matrix: {result[\"name\"]}')\n",
    "    i += 1\n",
    "  plt.tight_layout()\n",
    "  plt.show()"
   ],
   "metadata": {
    "id": "N_VktR_qLBGU"
   },
   "execution_count": 34,
   "outputs": []
  },
  {
   "cell_type": "markdown",
   "source": [
    "## Base Models"
   ],
   "metadata": {
    "id": "Wc0Sw8-ILWLp"
   }
  },
  {
   "cell_type": "code",
   "execution_count": 36,
   "metadata": {
    "id": "293Wk901U5hQ"
   },
   "outputs": [],
   "source": [
    "# Base Models\n",
    "base_models = {\"LR\":{'model':LogisticRegression(max_iter=6000, random_state=rand_state), \"scale\":True}, \"RF\":{\"model\":RandomForestClassifier(), \"scale\":False}, \"SVM\":{\"model\": SVC(random_state=rand_state), \"scale\":True}}"
   ]
  },
  {
   "cell_type": "code",
   "execution_count": 37,
   "metadata": {
    "id": "vOqEawh81-iY"
   },
   "outputs": [],
   "source": [
    "# Base Model Results Dictionary\n",
    "base_models_result_dict = {\"LR\":{\"name\":\"LR (Base)\"}, \"RF\":{\"name\":\"RF (Base)\"}, \"SVM\":{\"name\":\"SVM (Base)\"}}"
   ]
  },
  {
   "cell_type": "code",
   "execution_count": 38,
   "metadata": {
    "id": "MoQSrzGaLGhq"
   },
   "outputs": [],
   "source": [
    "# Split Data\n",
    "df = drop_all_missing_values()\n",
    "X = df.iloc[:,:len(df.columns)-1]\n",
    "y = df.iloc[:,len(df.columns)-1]\n",
    "X_train, X_test, y_train, y_test = train_test_split(X, y, test_size=0.3, random_state=rand_state)"
   ]
  },
  {
   "cell_type": "code",
   "execution_count": 39,
   "metadata": {
    "id": "uRHWF4kbLUrL"
   },
   "outputs": [],
   "source": [
    "# Single Run of Each Base Model\n",
    "for key, obj in base_models.items():\n",
    "  model = obj['model']\n",
    "  model.fit(X_train, y_train)\n",
    "  y_pred = model.predict(X_test)\n",
    "  add_result(base_models_result_dict, key, y_test, y_pred)\n",
    "# Create Results Frame\n",
    "base_models_frame = create_results_frame(base_models_result_dict)"
   ]
  },
  {
   "cell_type": "code",
   "execution_count": 40,
   "metadata": {
    "colab": {
     "base_uri": "https://localhost:8080/",
     "height": 161
    },
    "id": "l3-gwuTuLegP",
    "outputId": "bc24190f-553e-4431-f4b6-74a1eb9b2091"
   },
   "outputs": [
    {
     "output_type": "stream",
     "name": "stdout",
     "text": [
      "Base Model Results On Original Dataset No Preprocessing\n"
     ]
    },
    {
     "output_type": "execute_result",
     "data": {
      "text/plain": [
       "<pandas.io.formats.style.Styler at 0x799ff1204d30>"
      ],
      "text/html": [
       "<style type=\"text/css\">\n",
       "</style>\n",
       "<table id=\"T_11cea\" class=\"dataframe\">\n",
       "  <thead>\n",
       "    <tr>\n",
       "      <th id=\"T_11cea_level0_col0\" class=\"col_heading level0 col0\" >Model</th>\n",
       "      <th id=\"T_11cea_level0_col1\" class=\"col_heading level0 col1\" >Accuracy</th>\n",
       "      <th id=\"T_11cea_level0_col2\" class=\"col_heading level0 col2\" >Precision</th>\n",
       "      <th id=\"T_11cea_level0_col3\" class=\"col_heading level0 col3\" >Recall</th>\n",
       "    </tr>\n",
       "  </thead>\n",
       "  <tbody>\n",
       "    <tr>\n",
       "      <td id=\"T_11cea_row0_col0\" class=\"data row0 col0\" >RF (Base)</td>\n",
       "      <td id=\"T_11cea_row0_col1\" class=\"data row0 col1\" >0.975000</td>\n",
       "      <td id=\"T_11cea_row0_col2\" class=\"data row0 col2\" >0.976648</td>\n",
       "      <td id=\"T_11cea_row0_col3\" class=\"data row0 col3\" >0.969236</td>\n",
       "    </tr>\n",
       "    <tr>\n",
       "      <td id=\"T_11cea_row1_col0\" class=\"data row1 col0\" >LR (Base)</td>\n",
       "      <td id=\"T_11cea_row1_col1\" class=\"data row1 col1\" >0.637500</td>\n",
       "      <td id=\"T_11cea_row1_col2\" class=\"data row1 col2\" >0.318750</td>\n",
       "      <td id=\"T_11cea_row1_col3\" class=\"data row1 col3\" >0.500000</td>\n",
       "    </tr>\n",
       "    <tr>\n",
       "      <td id=\"T_11cea_row2_col0\" class=\"data row2 col0\" >SVM (Base)</td>\n",
       "      <td id=\"T_11cea_row2_col1\" class=\"data row2 col1\" >0.637500</td>\n",
       "      <td id=\"T_11cea_row2_col2\" class=\"data row2 col2\" >0.318750</td>\n",
       "      <td id=\"T_11cea_row2_col3\" class=\"data row2 col3\" >0.500000</td>\n",
       "    </tr>\n",
       "  </tbody>\n",
       "</table>\n"
      ]
     },
     "metadata": {},
     "execution_count": 40
    }
   ],
   "source": [
    "# Show Results\n",
    "print(\"Base Model Results On Original Dataset No Preprocessing\")\n",
    "show_results_frame(base_models_frame)"
   ]
  },
  {
   "cell_type": "code",
   "source": [
    "# Plot Confusion Matrics For Base Models\n",
    "plot_multi_confusion_matrix(base_models_result_dict)"
   ],
   "metadata": {
    "colab": {
     "base_uri": "https://localhost:8080/",
     "height": 607
    },
    "id": "Zlo3ls2fL1XS",
    "outputId": "2191f2f3-0344-4f44-d106-b7f59fd058a1"
   },
   "execution_count": 41,
   "outputs": [
    {
     "output_type": "display_data",
     "data": {
      "text/plain": [
       "<Figure size 1400x600 with 3 Axes>"
      ],
      "image/png": "[encoded data removed]"
     },
     "metadata": {}
    }
   ]
  },
  {
   "cell_type": "markdown",
   "source": [
    "### Comments\n",
    "As expected, the results of LR and SVM indicate the models are facing the same issues as the CMLW where it is misclassifying the minority class (Malignant). This is corroborated in the confusion matrix above, where LR and SVM have 58 False Positives each and 0 True Negatives."
   ],
   "metadata": {
    "id": "8IZ-clp8Lmvc"
   }
  },
  {
   "cell_type": "markdown",
   "metadata": {
    "id": "e2VrxAnkZLhg"
   },
   "source": [
    "## Base Models - Imputation"
   ]
  },
  {
   "cell_type": "markdown",
   "metadata": {
    "id": "UbBBiwY_ZOVr"
   },
   "source": [
    "### KNN Imputation"
   ]
  },
  {
   "cell_type": "code",
   "execution_count": 42,
   "metadata": {
    "id": "7QaGzBWjZRul"
   },
   "outputs": [],
   "source": [
    "# KNN Imputation Results Dictionary\n",
    "knn_imp_results_dict = {\"LR\":{\"name\":\"LR (KNN Imputation)\"}, \"RF\":{\"name\":\"RF (KNN Imputation)\"}, \"SVM\":{\"name\":\"SVM (KNN Imputation)\"}}"
   ]
  },
  {
   "cell_type": "code",
   "execution_count": 43,
   "metadata": {
    "id": "vsHX7CZBZU-g"
   },
   "outputs": [],
   "source": [
    "# Split Data\n",
    "df = impute_missing_values_KNN()\n",
    "X = df.iloc[:, :len(df.columns) - 1]\n",
    "y = df.iloc[:, len(df.columns) - 1]\n",
    "X_train, X_test, y_train, y_test = train_test_split(X, y, test_size=0.3, random_state=rand_state)"
   ]
  },
  {
   "cell_type": "code",
   "execution_count": 44,
   "metadata": {
    "id": "2Ls1MrZ_ZcmC"
   },
   "outputs": [],
   "source": [
    "# Single Run of Base Models\n",
    "for key, obj in base_models.items():\n",
    "  model = obj['model']\n",
    "  model.fit(X_train, y_train)\n",
    "  y_pred = model.predict(X_test)\n",
    "  add_result(knn_imp_results_dict, key, y_test, y_pred)\n",
    "# Create Results Frame\n",
    "knn_imp_frame = create_results_frame(knn_imp_results_dict)"
   ]
  },
  {
   "cell_type": "code",
   "execution_count": 45,
   "metadata": {
    "colab": {
     "base_uri": "https://localhost:8080/",
     "height": 161
    },
    "id": "kAcQ4iJ7ZfAV",
    "outputId": "5e5f81a3-cf6d-42f1-e49f-f54513ee42a8"
   },
   "outputs": [
    {
     "output_type": "stream",
     "name": "stdout",
     "text": [
      "Base Model Results On Original Dataset with Z-Score Normalization\n"
     ]
    },
    {
     "output_type": "execute_result",
     "data": {
      "text/plain": [
       "<pandas.io.formats.style.Styler at 0x799ff1206e60>"
      ],
      "text/html": [
       "<style type=\"text/css\">\n",
       "</style>\n",
       "<table id=\"T_1f94b\" class=\"dataframe\">\n",
       "  <thead>\n",
       "    <tr>\n",
       "      <th id=\"T_1f94b_level0_col0\" class=\"col_heading level0 col0\" >Model</th>\n",
       "      <th id=\"T_1f94b_level0_col1\" class=\"col_heading level0 col1\" >Accuracy</th>\n",
       "      <th id=\"T_1f94b_level0_col2\" class=\"col_heading level0 col2\" >Precision</th>\n",
       "      <th id=\"T_1f94b_level0_col3\" class=\"col_heading level0 col3\" >Recall</th>\n",
       "    </tr>\n",
       "  </thead>\n",
       "  <tbody>\n",
       "    <tr>\n",
       "      <td id=\"T_1f94b_row0_col0\" class=\"data row0 col0\" >RF (KNN Imputation)</td>\n",
       "      <td id=\"T_1f94b_row0_col1\" class=\"data row0 col1\" >0.964706</td>\n",
       "      <td id=\"T_1f94b_row0_col2\" class=\"data row0 col2\" >0.959459</td>\n",
       "      <td id=\"T_1f94b_row0_col3\" class=\"data row0 col3\" >0.970588</td>\n",
       "    </tr>\n",
       "    <tr>\n",
       "      <td id=\"T_1f94b_row1_col0\" class=\"data row1 col0\" >LR (KNN Imputation)</td>\n",
       "      <td id=\"T_1f94b_row1_col1\" class=\"data row1 col1\" >0.947059</td>\n",
       "      <td id=\"T_1f94b_row1_col2\" class=\"data row1 col2\" >0.945877</td>\n",
       "      <td id=\"T_1f94b_row1_col3\" class=\"data row1 col3\" >0.943627</td>\n",
       "    </tr>\n",
       "    <tr>\n",
       "      <td id=\"T_1f94b_row2_col0\" class=\"data row2 col0\" >SVM (KNN Imputation)</td>\n",
       "      <td id=\"T_1f94b_row2_col1\" class=\"data row2 col1\" >0.929412</td>\n",
       "      <td id=\"T_1f94b_row2_col2\" class=\"data row2 col2\" >0.934140</td>\n",
       "      <td id=\"T_1f94b_row2_col3\" class=\"data row2 col3\" >0.919118</td>\n",
       "    </tr>\n",
       "  </tbody>\n",
       "</table>\n"
      ]
     },
     "metadata": {},
     "execution_count": 45
    }
   ],
   "source": [
    "# Show Results\n",
    "print(\"Base Model Results On Original Dataset with Z-Score Normalization\")\n",
    "show_results_frame(knn_imp_frame)"
   ]
  },
  {
   "cell_type": "code",
   "execution_count": null,
   "metadata": {
    "colab": {
     "base_uri": "https://localhost:8080/",
     "height": 607
    },
    "id": "Jb5H-lVFXjb2",
    "outputId": "5d6e8137-d083-40c4-a163-10808a2800cc"
   },
   "outputs": [
    {
     "data": {
      "image/png": "[encoded data removed]",
      "text/plain": [
       "<Figure size 1400x600 with 3 Axes>"
      ]
     },
     "metadata": {},
     "output_type": "display_data"
    }
   ],
   "source": [
    "# Plot Confusion Matrics For Base Models\n",
    "plot_multi_confusion_matrix(knn_imp_results_dict)"
   ]
  },
  {
   "cell_type": "markdown",
   "metadata": {
    "id": "hS2Io1tnXP0E"
   },
   "source": [
    "### Comments\n",
    "\n",
    "After imputing the values using KNN imputation both the LR and SVM models drastically increased in terms of accuracy, precision, and recall. The RF model has fallen in terms of accuracy and precision, but the recall score, the more import metric has increased. Results indicate the use KNN-Imputation to more effective than the drop_na() (section 4.1) approach, in line with those of Jadhav et al., 2019 who found “KNN imputation method outperforms the other methods”."
   ]
  },
  {
   "cell_type": "markdown",
   "source": [
    "## Data Normalization\n",
    "\n",
    "Normalization of the dataset is performed using both Z-Score and Min-Max with a comparison drawn between the two to show which is more effective."
   ],
   "metadata": {
    "id": "K7unv5RdNNoA"
   }
  },
  {
   "cell_type": "markdown",
   "metadata": {
    "id": "S0qJaH7gRh7i"
   },
   "source": [
    "### Z-Score Normalization"
   ]
  },
  {
   "cell_type": "code",
   "execution_count": 46,
   "metadata": {
    "id": "MMCgL__KPcSK"
   },
   "outputs": [],
   "source": [
    "# Z-Score Normalization Results Dictionary\n",
    "z_score_results_dict = {\"LR\":{\"name\":\"LR (Z-Score)\"}, \"RF\":{\"name\":\"RF (Z-Score)\"}, \"SVM\":{\"name\":\"SVM (Z-Score)\"}}"
   ]
  },
  {
   "cell_type": "code",
   "execution_count": 47,
   "metadata": {
    "id": "9x1xg-i6PSLd"
   },
   "outputs": [],
   "source": [
    "# Split Data\n",
    "df = impute_missing_values_KNN()\n",
    "X = df.iloc[:,:len(df.columns)-1]\n",
    "y = df.iloc[:,len(df.columns)-1]\n",
    "X_train, X_test, y_train, y_test = train_test_split(X, y, test_size=0.3, random_state=rand_state)\n",
    "X_train, X_test = scale_data_zscore(X_train, X_test)"
   ]
  },
  {
   "cell_type": "code",
   "execution_count": 48,
   "metadata": {
    "id": "urXTIgcSPsHg"
   },
   "outputs": [],
   "source": [
    "# Single Run after Z-Score Normalization\n",
    "for key, obj in base_models.items():\n",
    "  model = obj['model']\n",
    "  model.fit(X_train, y_train)\n",
    "  y_pred = model.predict(X_test)\n",
    "  add_result(z_score_results_dict, key, y_test, y_pred)\n",
    "# Create Results Frame\n",
    "z_score_frame = create_results_frame(z_score_results_dict)"
   ]
  },
  {
   "cell_type": "code",
   "execution_count": 49,
   "metadata": {
    "colab": {
     "base_uri": "https://localhost:8080/",
     "height": 161
    },
    "id": "JSwsY6i7PySI",
    "outputId": "f534b015-fdef-4165-8cd5-a38a3cba83f7"
   },
   "outputs": [
    {
     "output_type": "stream",
     "name": "stdout",
     "text": [
      "Base Model Results On Original Dataset with Z-Score Normalization\n"
     ]
    },
    {
     "output_type": "execute_result",
     "data": {
      "text/plain": [
       "<pandas.io.formats.style.Styler at 0x799ff1409cf0>"
      ],
      "text/html": [
       "<style type=\"text/css\">\n",
       "</style>\n",
       "<table id=\"T_8c0c1\" class=\"dataframe\">\n",
       "  <thead>\n",
       "    <tr>\n",
       "      <th id=\"T_8c0c1_level0_col0\" class=\"col_heading level0 col0\" >Model</th>\n",
       "      <th id=\"T_8c0c1_level0_col1\" class=\"col_heading level0 col1\" >Accuracy</th>\n",
       "      <th id=\"T_8c0c1_level0_col2\" class=\"col_heading level0 col2\" >Precision</th>\n",
       "      <th id=\"T_8c0c1_level0_col3\" class=\"col_heading level0 col3\" >Recall</th>\n",
       "    </tr>\n",
       "  </thead>\n",
       "  <tbody>\n",
       "    <tr>\n",
       "      <td id=\"T_8c0c1_row0_col0\" class=\"data row0 col0\" >LR (Z-Score)</td>\n",
       "      <td id=\"T_8c0c1_row0_col1\" class=\"data row0 col1\" >0.994118</td>\n",
       "      <td id=\"T_8c0c1_row0_col2\" class=\"data row0 col2\" >0.992754</td>\n",
       "      <td id=\"T_8c0c1_row0_col3\" class=\"data row0 col3\" >0.995098</td>\n",
       "    </tr>\n",
       "    <tr>\n",
       "      <td id=\"T_8c0c1_row1_col0\" class=\"data row1 col0\" >SVM (Z-Score)</td>\n",
       "      <td id=\"T_8c0c1_row1_col1\" class=\"data row1 col1\" >0.976471</td>\n",
       "      <td id=\"T_8c0c1_row1_col2\" class=\"data row1 col2\" >0.975490</td>\n",
       "      <td id=\"T_8c0c1_row1_col3\" class=\"data row1 col3\" >0.975490</td>\n",
       "    </tr>\n",
       "    <tr>\n",
       "      <td id=\"T_8c0c1_row2_col0\" class=\"data row2 col0\" >RF (Z-Score)</td>\n",
       "      <td id=\"T_8c0c1_row2_col1\" class=\"data row2 col1\" >0.970588</td>\n",
       "      <td id=\"T_8c0c1_row2_col2\" class=\"data row2 col2\" >0.965753</td>\n",
       "      <td id=\"T_8c0c1_row2_col3\" class=\"data row2 col3\" >0.975490</td>\n",
       "    </tr>\n",
       "  </tbody>\n",
       "</table>\n"
      ]
     },
     "metadata": {},
     "execution_count": 49
    }
   ],
   "source": [
    "# Show Results\n",
    "print(\"Base Model Results On Original Dataset with Z-Score Normalization\")\n",
    "show_results_frame(z_score_frame)"
   ]
  },
  {
   "cell_type": "markdown",
   "metadata": {
    "id": "7P_aXUK-Rl8_"
   },
   "source": [
    "### Min - Max Normalization"
   ]
  },
  {
   "cell_type": "code",
   "execution_count": 50,
   "metadata": {
    "id": "DDBLUfLuSfXK"
   },
   "outputs": [],
   "source": [
    "# Min-Max Results Dictionary\n",
    "minmax_results_dict = {\"LR\":{\"name\":\"LR (Min-Max)\"}, \"RF\":{\"name\":\"RF (Min-Max)\"}, \"SVM\":{\"name\":\"SVM (Min-Max)\"}}"
   ]
  },
  {
   "cell_type": "code",
   "execution_count": 51,
   "metadata": {
    "id": "-mpHBijwSjNR"
   },
   "outputs": [],
   "source": [
    "# Split Data\n",
    "df = drop_all_missing_values()\n",
    "X = df.iloc[:,:len(df.columns)-1]\n",
    "y = df.iloc[:,len(df.columns)-1]\n",
    "X_train, X_test, y_train, y_test = train_test_split(X, y, test_size=0.3, random_state=rand_state)\n",
    "X_train, X_test = scale_data_minmax(X_train, X_test)"
   ]
  },
  {
   "cell_type": "code",
   "execution_count": 52,
   "metadata": {
    "id": "GxdbpsdTSkva"
   },
   "outputs": [],
   "source": [
    "# Single Run  After Min-Max Normalization\n",
    "for key, obj in base_models.items():\n",
    "  model = obj['model']\n",
    "  model.fit(X_train, y_train)\n",
    "  y_pred = model.predict(X_test)\n",
    "  add_result(minmax_results_dict, key, y_test, y_pred)\n",
    "minmax_frame = create_results_frame(minmax_results_dict)"
   ]
  },
  {
   "cell_type": "code",
   "execution_count": 53,
   "metadata": {
    "colab": {
     "base_uri": "https://localhost:8080/",
     "height": 161
    },
    "id": "lEuTx5DlSuj1",
    "outputId": "b5686bd4-81dc-4713-f03b-118906556e2a"
   },
   "outputs": [
    {
     "output_type": "stream",
     "name": "stdout",
     "text": [
      "Base Model Results On Original Dataset with Z-Score Normalization\n"
     ]
    },
    {
     "output_type": "execute_result",
     "data": {
      "text/plain": [
       "<pandas.io.formats.style.Styler at 0x799ff10308e0>"
      ],
      "text/html": [
       "<style type=\"text/css\">\n",
       "</style>\n",
       "<table id=\"T_4e190\" class=\"dataframe\">\n",
       "  <thead>\n",
       "    <tr>\n",
       "      <th id=\"T_4e190_level0_col0\" class=\"col_heading level0 col0\" >Model</th>\n",
       "      <th id=\"T_4e190_level0_col1\" class=\"col_heading level0 col1\" >Accuracy</th>\n",
       "      <th id=\"T_4e190_level0_col2\" class=\"col_heading level0 col2\" >Precision</th>\n",
       "      <th id=\"T_4e190_level0_col3\" class=\"col_heading level0 col3\" >Recall</th>\n",
       "    </tr>\n",
       "  </thead>\n",
       "  <tbody>\n",
       "    <tr>\n",
       "      <td id=\"T_4e190_row0_col0\" class=\"data row0 col0\" >SVM (Min-Max)</td>\n",
       "      <td id=\"T_4e190_row0_col1\" class=\"data row0 col1\" >0.975000</td>\n",
       "      <td id=\"T_4e190_row0_col2\" class=\"data row0 col2\" >0.976648</td>\n",
       "      <td id=\"T_4e190_row0_col3\" class=\"data row0 col3\" >0.969236</td>\n",
       "    </tr>\n",
       "    <tr>\n",
       "      <td id=\"T_4e190_row1_col0\" class=\"data row1 col0\" >RF (Min-Max)</td>\n",
       "      <td id=\"T_4e190_row1_col1\" class=\"data row1 col1\" >0.968750</td>\n",
       "      <td id=\"T_4e190_row1_col2\" class=\"data row1 col2\" >0.971861</td>\n",
       "      <td id=\"T_4e190_row1_col3\" class=\"data row1 col3\" >0.960615</td>\n",
       "    </tr>\n",
       "    <tr>\n",
       "      <td id=\"T_4e190_row2_col0\" class=\"data row2 col0\" >LR (Min-Max)</td>\n",
       "      <td id=\"T_4e190_row2_col1\" class=\"data row2 col1\" >0.956250</td>\n",
       "      <td id=\"T_4e190_row2_col2\" class=\"data row2 col2\" >0.962529</td>\n",
       "      <td id=\"T_4e190_row2_col3\" class=\"data row2 col3\" >0.943374</td>\n",
       "    </tr>\n",
       "  </tbody>\n",
       "</table>\n"
      ]
     },
     "metadata": {},
     "execution_count": 53
    }
   ],
   "source": [
    "# Show Results\n",
    "print(\"Base Model Results On Original Dataset with Z-Score Normalization\")\n",
    "show_results_frame(minmax_frame)"
   ]
  },
  {
   "cell_type": "markdown",
   "source": [
    "### Comparison of Z-Score vs Min-Max Normalization"
   ],
   "metadata": {
    "id": "sUwjF5sQNnBt"
   }
  },
  {
   "cell_type": "code",
   "execution_count": 54,
   "metadata": {
    "colab": {
     "base_uri": "https://localhost:8080/",
     "height": 238
    },
    "id": "F6LW_OVXbVw_",
    "outputId": "8276451e-6156-450a-8406-25a5652b3979"
   },
   "outputs": [
    {
     "output_type": "execute_result",
     "data": {
      "text/plain": [
       "<pandas.io.formats.style.Styler at 0x799ff0fe9000>"
      ],
      "text/html": [
       "<style type=\"text/css\">\n",
       "</style>\n",
       "<table id=\"T_19cf4\" class=\"dataframe\">\n",
       "  <thead>\n",
       "    <tr>\n",
       "      <th id=\"T_19cf4_level0_col0\" class=\"col_heading level0 col0\" >Model</th>\n",
       "      <th id=\"T_19cf4_level0_col1\" class=\"col_heading level0 col1\" >Accuracy</th>\n",
       "      <th id=\"T_19cf4_level0_col2\" class=\"col_heading level0 col2\" >Precision</th>\n",
       "      <th id=\"T_19cf4_level0_col3\" class=\"col_heading level0 col3\" >Recall</th>\n",
       "    </tr>\n",
       "  </thead>\n",
       "  <tbody>\n",
       "    <tr>\n",
       "      <td id=\"T_19cf4_row0_col0\" class=\"data row0 col0\" >LR (Min-Max)</td>\n",
       "      <td id=\"T_19cf4_row0_col1\" class=\"data row0 col1\" >0.956250</td>\n",
       "      <td id=\"T_19cf4_row0_col2\" class=\"data row0 col2\" >0.962529</td>\n",
       "      <td id=\"T_19cf4_row0_col3\" class=\"data row0 col3\" >0.943374</td>\n",
       "    </tr>\n",
       "    <tr>\n",
       "      <td id=\"T_19cf4_row1_col0\" class=\"data row1 col0\" >RF (Min-Max)</td>\n",
       "      <td id=\"T_19cf4_row1_col1\" class=\"data row1 col1\" >0.968750</td>\n",
       "      <td id=\"T_19cf4_row1_col2\" class=\"data row1 col2\" >0.971861</td>\n",
       "      <td id=\"T_19cf4_row1_col3\" class=\"data row1 col3\" >0.960615</td>\n",
       "    </tr>\n",
       "    <tr>\n",
       "      <td id=\"T_19cf4_row2_col0\" class=\"data row2 col0\" >SVM (Min-Max)</td>\n",
       "      <td id=\"T_19cf4_row2_col1\" class=\"data row2 col1\" >0.975000</td>\n",
       "      <td id=\"T_19cf4_row2_col2\" class=\"data row2 col2\" >0.976648</td>\n",
       "      <td id=\"T_19cf4_row2_col3\" class=\"data row2 col3\" >0.969236</td>\n",
       "    </tr>\n",
       "    <tr>\n",
       "      <td id=\"T_19cf4_row3_col0\" class=\"data row3 col0\" >SVM (Z-Score)</td>\n",
       "      <td id=\"T_19cf4_row3_col1\" class=\"data row3 col1\" >0.976471</td>\n",
       "      <td id=\"T_19cf4_row3_col2\" class=\"data row3 col2\" >0.975490</td>\n",
       "      <td id=\"T_19cf4_row3_col3\" class=\"data row3 col3\" >0.975490</td>\n",
       "    </tr>\n",
       "    <tr>\n",
       "      <td id=\"T_19cf4_row4_col0\" class=\"data row4 col0\" >RF (Z-Score)</td>\n",
       "      <td id=\"T_19cf4_row4_col1\" class=\"data row4 col1\" >0.970588</td>\n",
       "      <td id=\"T_19cf4_row4_col2\" class=\"data row4 col2\" >0.965753</td>\n",
       "      <td id=\"T_19cf4_row4_col3\" class=\"data row4 col3\" >0.975490</td>\n",
       "    </tr>\n",
       "    <tr>\n",
       "      <td id=\"T_19cf4_row5_col0\" class=\"data row5 col0\" >LR (Z-Score)</td>\n",
       "      <td id=\"T_19cf4_row5_col1\" class=\"data row5 col1\" >0.994118</td>\n",
       "      <td id=\"T_19cf4_row5_col2\" class=\"data row5 col2\" >0.992754</td>\n",
       "      <td id=\"T_19cf4_row5_col3\" class=\"data row5 col3\" >0.995098</td>\n",
       "    </tr>\n",
       "  </tbody>\n",
       "</table>\n"
      ]
     },
     "metadata": {},
     "execution_count": 54
    }
   ],
   "source": [
    "normalization_comparison = concat_frames([z_score_frame, minmax_frame], drop_std=False)\n",
    "show_results_frame(normalization_comparison)"
   ]
  },
  {
   "cell_type": "code",
   "execution_count": 55,
   "metadata": {
    "colab": {
     "base_uri": "https://localhost:8080/",
     "height": 707
    },
    "id": "rQLbyXh2dAMH",
    "outputId": "3a33993b-8d64-471a-d744-9f57d26f17aa"
   },
   "outputs": [
    {
     "output_type": "display_data",
     "data": {
      "text/plain": [
       "<Figure size 1500x700 with 1 Axes>"
      ],
      "image/png": "[encoded data removed]"
     },
     "metadata": {}
    }
   ],
   "source": [
    "show_results_chart(normalization_comparison, \"Z-Score vs Min-Max Normalization\")"
   ]
  },
  {
   "cell_type": "markdown",
   "metadata": {
    "id": "Cnrc3w0Xcmdx"
   },
   "source": [
    "### Comments\n",
    "After Z-score normalization, the three metrics for LR and SVM have increased, while in general there is a positive increase when using Z-Score over Min-Max normalization. These results are in line with, Singh & Singh, 2021 who conclude “z-score is more appropriate in comparison to min-max and median techniques\n",
    "for data normalization”."
   ]
  },
  {
   "cell_type": "markdown",
   "metadata": {
    "id": "jczAoO5dLTq4"
   },
   "source": [
    "## Base Models After Feature Selection\n",
    "\n",
    "All models are tested against the RFE-RF & RFE-SVM datasets"
   ]
  },
  {
   "cell_type": "code",
   "execution_count": 56,
   "metadata": {
    "id": "tX1QujfdfkVh"
   },
   "outputs": [],
   "source": [
    "def return_features_selected_data_sets(input_df, feature_group):\n",
    "  ''' Returns a dataset comprising of the selected feature groups'''\n",
    "  new_df = input_df[feature_selection_dict[feature_group]]\n",
    "  return new_df"
   ]
  },
  {
   "cell_type": "code",
   "execution_count": 57,
   "metadata": {
    "id": "-yRwJwSDnxHs"
   },
   "outputs": [],
   "source": [
    "base_models = {\"LR\":{'model':LogisticRegression(max_iter=6000, random_state=rand_state), \"scale\":True}, \"RF\":{\"model\":RandomForestClassifier(), \"scale\":False}, \"SVM\":{\"model\": SVC(random_state=rand_state), \"scale\":True}}"
   ]
  },
  {
   "cell_type": "markdown",
   "metadata": {
    "id": "gqNCQvhxsWFH"
   },
   "source": [
    "### RFE-SVM Dataset"
   ]
  },
  {
   "cell_type": "code",
   "execution_count": 58,
   "metadata": {
    "id": "u0rSDAawmRMC"
   },
   "outputs": [],
   "source": [
    "# Split Data Taking Only the Features Selected By SVM-RFE\n",
    "df = impute_missing_values_KNN()\n",
    "X = df.iloc[:, :len(df.columns) - 1]\n",
    "X = return_features_selected_data_sets(X, 'RFE - SVM')\n",
    "y = df.iloc[:, len(df.columns) - 1]\n",
    "X_train, X_test, y_train, y_test = train_test_split(X, y, test_size=0.3, random_state=rand_state)"
   ]
  },
  {
   "cell_type": "code",
   "execution_count": 59,
   "metadata": {
    "colab": {
     "base_uri": "https://localhost:8080/"
    },
    "id": "ku0tNqFGuiKJ",
    "outputId": "98992026-f088-4800-98a4-55ecabacaf1c"
   },
   "outputs": [
    {
     "output_type": "stream",
     "name": "stdout",
     "text": [
      "Dataset Info:\n",
      "<class 'pandas.core.frame.DataFrame'>\n",
      "RangeIndex: 566 entries, 0 to 565\n",
      "Data columns (total 7 columns):\n",
      " #   Column                Non-Null Count  Dtype  \n",
      "---  ------                --------------  -----  \n",
      " 0   compactness_mean      566 non-null    float64\n",
      " 1   concave_points_mean   566 non-null    float64\n",
      " 2   area_error            566 non-null    float64\n",
      " 3   texture_worst         566 non-null    float64\n",
      " 4   area_worst            566 non-null    float64\n",
      " 5   concave_points_worst  566 non-null    float64\n",
      " 6   symmetry_worst        566 non-null    float64\n",
      "dtypes: float64(7)\n",
      "memory usage: 31.1 KB\n"
     ]
    }
   ],
   "source": [
    "print(\"Dataset Info:\")\n",
    "X.info()"
   ]
  },
  {
   "cell_type": "code",
   "execution_count": 60,
   "metadata": {
    "id": "aH35XIpPs7Ka"
   },
   "outputs": [],
   "source": [
    "# Base Models - RFE-SVM Results Dictionary\n",
    "base_RFESVMF_results_dict = {\"LR\":{\"name\":\"LR (RFE - SVM)\"}, \"RF\":{\"name\":\"RF (RFE - SVM)\"}, \"SVM\":{\"name\":\"SVM (RFE - SVM)\"}}"
   ]
  },
  {
   "cell_type": "code",
   "execution_count": 61,
   "metadata": {
    "id": "14O13hyyonmV"
   },
   "outputs": [],
   "source": [
    "# Single Run On RFE-SVM Dataset\n",
    "for key, model in chosen_models.items():\n",
    "  if model['scale']:\n",
    "    X_train, X_test = scale_data_zscore(X_train, X_test)\n",
    "  model = model['model']\n",
    "  model.fit(X_train, y_train)\n",
    "  y_pred = model.predict(X_test)\n",
    "  add_result(base_RFESVMF_results_dict, key, y_test, y_pred)\n",
    "# Create Results Frame\n",
    "base_RFESVM_frame = create_results_frame(base_RFESVMF_results_dict)"
   ]
  },
  {
   "cell_type": "code",
   "execution_count": 62,
   "metadata": {
    "colab": {
     "base_uri": "https://localhost:8080/",
     "height": 161
    },
    "id": "7TinZtHoqstC",
    "outputId": "cc55f3b7-3beb-4d8a-fad0-f32bdff8ea50"
   },
   "outputs": [
    {
     "output_type": "stream",
     "name": "stdout",
     "text": [
      "Base Model Results On RFE - SVM Dataset\n"
     ]
    },
    {
     "output_type": "execute_result",
     "data": {
      "text/plain": [
       "<pandas.io.formats.style.Styler at 0x799ff12056f0>"
      ],
      "text/html": [
       "<style type=\"text/css\">\n",
       "</style>\n",
       "<table id=\"T_ede09\" class=\"dataframe\">\n",
       "  <thead>\n",
       "    <tr>\n",
       "      <th id=\"T_ede09_level0_col0\" class=\"col_heading level0 col0\" >Model</th>\n",
       "      <th id=\"T_ede09_level0_col1\" class=\"col_heading level0 col1\" >Accuracy</th>\n",
       "      <th id=\"T_ede09_level0_col2\" class=\"col_heading level0 col2\" >Precision</th>\n",
       "      <th id=\"T_ede09_level0_col3\" class=\"col_heading level0 col3\" >Recall</th>\n",
       "    </tr>\n",
       "  </thead>\n",
       "  <tbody>\n",
       "    <tr>\n",
       "      <td id=\"T_ede09_row0_col0\" class=\"data row0 col0\" >LR (RFE - SVM)</td>\n",
       "      <td id=\"T_ede09_row0_col1\" class=\"data row0 col1\" >0.988235</td>\n",
       "      <td id=\"T_ede09_row0_col2\" class=\"data row0 col2\" >0.987745</td>\n",
       "      <td id=\"T_ede09_row0_col3\" class=\"data row0 col3\" >0.987745</td>\n",
       "    </tr>\n",
       "    <tr>\n",
       "      <td id=\"T_ede09_row1_col0\" class=\"data row1 col0\" >SVM (RFE - SVM)</td>\n",
       "      <td id=\"T_ede09_row1_col1\" class=\"data row1 col1\" >0.982353</td>\n",
       "      <td id=\"T_ede09_row1_col2\" class=\"data row1 col2\" >0.982829</td>\n",
       "      <td id=\"T_ede09_row1_col3\" class=\"data row1 col3\" >0.980392</td>\n",
       "    </tr>\n",
       "    <tr>\n",
       "      <td id=\"T_ede09_row2_col0\" class=\"data row2 col0\" >RF (RFE - SVM)</td>\n",
       "      <td id=\"T_ede09_row2_col1\" class=\"data row2 col1\" >0.958824</td>\n",
       "      <td id=\"T_ede09_row2_col2\" class=\"data row2 col2\" >0.953749</td>\n",
       "      <td id=\"T_ede09_row2_col3\" class=\"data row2 col3\" >0.963235</td>\n",
       "    </tr>\n",
       "  </tbody>\n",
       "</table>\n"
      ]
     },
     "metadata": {},
     "execution_count": 62
    }
   ],
   "source": [
    "# Show Results\n",
    "print(\"Base Model Results On RFE - SVM Dataset\")\n",
    "show_results_frame(base_RFESVM_frame)"
   ]
  },
  {
   "cell_type": "code",
   "source": [
    "plot_multi_confusion_matrix(base_RFESVMF_results_dict)"
   ],
   "metadata": {
    "colab": {
     "base_uri": "https://localhost:8080/",
     "height": 607
    },
    "id": "If456fiPaygC",
    "outputId": "c932b75d-51b4-4289-e81c-2a77c26c3aa5"
   },
   "execution_count": 69,
   "outputs": [
    {
     "output_type": "display_data",
     "data": {
      "text/plain": [
       "<Figure size 1400x600 with 3 Axes>"
      ],
      "image/png": "[encoded data removed]"
     },
     "metadata": {}
    }
   ]
  },
  {
   "cell_type": "markdown",
   "metadata": {
    "id": "SaNNltHTstuV"
   },
   "source": [
    "### RFE-RF Dataset"
   ]
  },
  {
   "cell_type": "code",
   "execution_count": 63,
   "metadata": {
    "id": "aSRHItE6s4h3"
   },
   "outputs": [],
   "source": [
    "# Base Model - RFE-RF Results Dictionary\n",
    "base_RFERF_results_dict = {\"LR\":{\"name\":\"LR (RFE - RF)\"}, \"RF\":{\"name\":\"RF (RFE - RF)\"}, \"SVM\":{\"name\":\"SVM (RFE - RF)\"}}"
   ]
  },
  {
   "cell_type": "code",
   "execution_count": 64,
   "metadata": {
    "id": "hiiU-bgNtWmp"
   },
   "outputs": [],
   "source": [
    "# Split Data\n",
    "df = impute_missing_values_KNN()\n",
    "X = df.iloc[:, :len(df.columns) - 1]\n",
    "y = df.iloc[:, len(df.columns) - 1]\n",
    "X = return_features_selected_data_sets(X, 'RFE - RF')\n",
    "X_train, X_test, y_train, y_test = train_test_split(X, y, test_size=0.3, random_state=rand_state)"
   ]
  },
  {
   "cell_type": "code",
   "execution_count": 70,
   "metadata": {
    "colab": {
     "base_uri": "https://localhost:8080/"
    },
    "id": "4gaTdAy3umYw",
    "outputId": "eb54ed5e-7f99-4da8-d3fd-db44017f3dd8"
   },
   "outputs": [
    {
     "output_type": "stream",
     "name": "stdout",
     "text": [
      "Dataset Info:\n",
      "<class 'pandas.core.frame.DataFrame'>\n",
      "RangeIndex: 566 entries, 0 to 565\n",
      "Data columns (total 14 columns):\n",
      " #   Column                Non-Null Count  Dtype  \n",
      "---  ------                --------------  -----  \n",
      " 0   texture_mean          566 non-null    float64\n",
      " 1   perimter_mean         566 non-null    float64\n",
      " 2   compactness_mean      566 non-null    float64\n",
      " 3   concavity_mean        566 non-null    float64\n",
      " 4   concave_points_mean   566 non-null    float64\n",
      " 5   area_error            566 non-null    float64\n",
      " 6   radius_worst          566 non-null    float64\n",
      " 7   texture_worst         566 non-null    float64\n",
      " 8   perimeter_worst       566 non-null    float64\n",
      " 9   area_worst            566 non-null    float64\n",
      " 10  smoothness_worst      566 non-null    float64\n",
      " 11  concavity_worst       566 non-null    float64\n",
      " 12  concave_points_worst  566 non-null    float64\n",
      " 13  symmetry_worst        566 non-null    float64\n",
      "dtypes: float64(14)\n",
      "memory usage: 62.0 KB\n"
     ]
    }
   ],
   "source": [
    "print(\"Dataset Info:\")\n",
    "X.info()"
   ]
  },
  {
   "cell_type": "code",
   "execution_count": 71,
   "metadata": {
    "id": "IyZLbaRLswka"
   },
   "outputs": [],
   "source": [
    "# Single Run on RFE-RF Dataset\n",
    "for key, model in chosen_models.items():\n",
    "  if model['scale']:\n",
    "    X_train, X_test = scale_data_zscore(X_train, X_test)\n",
    "  model = model['model']\n",
    "  model.fit(X_train, y_train)\n",
    "  y_pred = model.predict(X_test)\n",
    "  add_result(base_RFERF_results_dict, key, y_test, y_pred)\n",
    "# Create Results Frame\n",
    "base_RFERF_frame = create_results_frame(base_RFERF_results_dict)"
   ]
  },
  {
   "cell_type": "code",
   "execution_count": 72,
   "metadata": {
    "colab": {
     "base_uri": "https://localhost:8080/",
     "height": 161
    },
    "id": "NWoEI31qs9VF",
    "outputId": "e504970c-2243-4967-e5bf-a048432531a7"
   },
   "outputs": [
    {
     "output_type": "stream",
     "name": "stdout",
     "text": [
      "Base Model Results On RFE - RF Dataset\n"
     ]
    },
    {
     "output_type": "execute_result",
     "data": {
      "text/plain": [
       "<pandas.io.formats.style.Styler at 0x799ff0c67c70>"
      ],
      "text/html": [
       "<style type=\"text/css\">\n",
       "</style>\n",
       "<table id=\"T_2b233\" class=\"dataframe\">\n",
       "  <thead>\n",
       "    <tr>\n",
       "      <th id=\"T_2b233_level0_col0\" class=\"col_heading level0 col0\" >Model</th>\n",
       "      <th id=\"T_2b233_level0_col1\" class=\"col_heading level0 col1\" >Accuracy</th>\n",
       "      <th id=\"T_2b233_level0_col2\" class=\"col_heading level0 col2\" >Precision</th>\n",
       "      <th id=\"T_2b233_level0_col3\" class=\"col_heading level0 col3\" >Recall</th>\n",
       "    </tr>\n",
       "  </thead>\n",
       "  <tbody>\n",
       "    <tr>\n",
       "      <td id=\"T_2b233_row0_col0\" class=\"data row0 col0\" >LR (RFE - RF)</td>\n",
       "      <td id=\"T_2b233_row0_col1\" class=\"data row0 col1\" >1.000000</td>\n",
       "      <td id=\"T_2b233_row0_col2\" class=\"data row0 col2\" >1.000000</td>\n",
       "      <td id=\"T_2b233_row0_col3\" class=\"data row0 col3\" >1.000000</td>\n",
       "    </tr>\n",
       "    <tr>\n",
       "      <td id=\"T_2b233_row1_col0\" class=\"data row1 col0\" >SVM (RFE - RF)</td>\n",
       "      <td id=\"T_2b233_row1_col1\" class=\"data row1 col1\" >0.982353</td>\n",
       "      <td id=\"T_2b233_row1_col2\" class=\"data row1 col2\" >0.982829</td>\n",
       "      <td id=\"T_2b233_row1_col3\" class=\"data row1 col3\" >0.980392</td>\n",
       "    </tr>\n",
       "    <tr>\n",
       "      <td id=\"T_2b233_row2_col0\" class=\"data row2 col0\" >RF (RFE - RF)</td>\n",
       "      <td id=\"T_2b233_row2_col1\" class=\"data row2 col1\" >0.976471</td>\n",
       "      <td id=\"T_2b233_row2_col2\" class=\"data row2 col2\" >0.973571</td>\n",
       "      <td id=\"T_2b233_row2_col3\" class=\"data row2 col3\" >0.977941</td>\n",
       "    </tr>\n",
       "  </tbody>\n",
       "</table>\n"
      ]
     },
     "metadata": {},
     "execution_count": 72
    }
   ],
   "source": [
    "# Show Results\n",
    "print(\"Base Model Results On RFE - RF Dataset\")\n",
    "show_results_frame(base_RFERF_frame)"
   ]
  },
  {
   "cell_type": "code",
   "execution_count": 73,
   "metadata": {
    "colab": {
     "base_uri": "https://localhost:8080/",
     "height": 607
    },
    "id": "OvZ8qL4nfBjz",
    "outputId": "8fbe8235-806a-49f9-f2cb-f941dff6330f"
   },
   "outputs": [
    {
     "output_type": "display_data",
     "data": {
      "text/plain": [
       "<Figure size 1400x600 with 3 Axes>"
      ],
      "image/png": "[encoded data removed]"
     },
     "metadata": {}
    }
   ],
   "source": [
    "plot_multi_confusion_matrix(base_RFERF_results_dict)"
   ]
  },
  {
   "cell_type": "markdown",
   "source": [
    "### Comments\n",
    "\n",
    "All models performed with greater accuracy, precision and recall when using the RFE-RF dataset, This leads to the selection of the RFE-RF as the core dataset to be implemented in the PMLW.\n"
   ],
   "metadata": {
    "id": "uxZRKI7bbEtc"
   }
  },
  {
   "cell_type": "markdown",
   "metadata": {
    "id": "f-dtH4IZpqbL"
   },
   "source": [
    "## Base Models After Class Balance Addressed"
   ]
  },
  {
   "cell_type": "code",
   "execution_count": 74,
   "metadata": {
    "id": "G5MWwVotxR8D"
   },
   "outputs": [],
   "source": [
    "def oversample(train_x, train_y):\n",
    "  ''' Oversamples X_train and y_train '''\n",
    "  smote = SMOTE(random_state=rand_state)\n",
    "  X_smote, y_smote = smote.fit_resample(X_train, y_train)\n",
    "  return X_smote, y_smote"
   ]
  },
  {
   "cell_type": "code",
   "execution_count": 75,
   "metadata": {
    "id": "wyHuNRB1yGPR"
   },
   "outputs": [],
   "source": [
    "# SMOTE Results Dict\n",
    "smote_results_dict = {\"LR\":{\"name\":\"LR (SMOTE)\"}, \"RF\":{\"name\":\"RF (SMOTE)\"}, \"SVM\":{\"name\":\"SVM (SMOTE)\"}}"
   ]
  },
  {
   "cell_type": "code",
   "execution_count": 76,
   "metadata": {
    "id": "5qqV5_aIxZOs"
   },
   "outputs": [],
   "source": [
    "# Split Data\n",
    "df = impute_missing_values_KNN()\n",
    "X = df.iloc[:,:len(df.columns)-1]\n",
    "y = df.iloc[:,len(df.columns)-1]\n",
    "X = return_features_selected_data_sets(X, 'RFE - RF')\n",
    "X_train, X_test, y_train, y_test = train_test_split(X, y, test_size=0.3, random_state=rand_state)\n",
    "# Apply Smote\n",
    "X_train, y_train = oversample(X_train, y_train)"
   ]
  },
  {
   "cell_type": "code",
   "execution_count": 77,
   "metadata": {
    "id": "UvjtnDQIpqFc"
   },
   "outputs": [],
   "source": [
    "# Single Run After SMOTE applied\n",
    "for key, model in chosen_models.items():\n",
    "  if model['scale']:\n",
    "    X_train, X_test = scale_data_zscore(X_train, X_test)\n",
    "  model = model['model']\n",
    "  model.fit(X_train, y_train)\n",
    "  y_pred = model.predict(X_test)\n",
    "  add_result(smote_results_dict, key, y_test, y_pred)\n",
    "# Create Results Frame\n",
    "smote_results_frame = create_results_frame(smote_results_dict)"
   ]
  },
  {
   "cell_type": "code",
   "execution_count": 78,
   "metadata": {
    "colab": {
     "base_uri": "https://localhost:8080/",
     "height": 161
    },
    "id": "IAcvuuwZyaMz",
    "outputId": "c730836b-1491-41e0-b271-3ed2a4a99ff0"
   },
   "outputs": [
    {
     "output_type": "stream",
     "name": "stdout",
     "text": [
      "Base Model Results On RFE - RF Dataset\n"
     ]
    },
    {
     "output_type": "execute_result",
     "data": {
      "text/plain": [
       "<pandas.io.formats.style.Styler at 0x799ff0c67910>"
      ],
      "text/html": [
       "<style type=\"text/css\">\n",
       "</style>\n",
       "<table id=\"T_496f6\" class=\"dataframe\">\n",
       "  <thead>\n",
       "    <tr>\n",
       "      <th id=\"T_496f6_level0_col0\" class=\"col_heading level0 col0\" >Model</th>\n",
       "      <th id=\"T_496f6_level0_col1\" class=\"col_heading level0 col1\" >Accuracy</th>\n",
       "      <th id=\"T_496f6_level0_col2\" class=\"col_heading level0 col2\" >Precision</th>\n",
       "      <th id=\"T_496f6_level0_col3\" class=\"col_heading level0 col3\" >Recall</th>\n",
       "    </tr>\n",
       "  </thead>\n",
       "  <tbody>\n",
       "    <tr>\n",
       "      <td id=\"T_496f6_row0_col0\" class=\"data row0 col0\" >LR (SMOTE)</td>\n",
       "      <td id=\"T_496f6_row0_col1\" class=\"data row0 col1\" >0.988235</td>\n",
       "      <td id=\"T_496f6_row0_col2\" class=\"data row0 col2\" >0.985714</td>\n",
       "      <td id=\"T_496f6_row0_col3\" class=\"data row0 col3\" >0.990196</td>\n",
       "    </tr>\n",
       "    <tr>\n",
       "      <td id=\"T_496f6_row1_col0\" class=\"data row1 col0\" >SVM (SMOTE)</td>\n",
       "      <td id=\"T_496f6_row1_col1\" class=\"data row1 col1\" >0.988235</td>\n",
       "      <td id=\"T_496f6_row1_col2\" class=\"data row1 col2\" >0.987745</td>\n",
       "      <td id=\"T_496f6_row1_col3\" class=\"data row1 col3\" >0.987745</td>\n",
       "    </tr>\n",
       "    <tr>\n",
       "      <td id=\"T_496f6_row2_col0\" class=\"data row2 col0\" >RF (SMOTE)</td>\n",
       "      <td id=\"T_496f6_row2_col1\" class=\"data row2 col1\" >0.964706</td>\n",
       "      <td id=\"T_496f6_row2_col2\" class=\"data row2 col2\" >0.959459</td>\n",
       "      <td id=\"T_496f6_row2_col3\" class=\"data row2 col3\" >0.970588</td>\n",
       "    </tr>\n",
       "  </tbody>\n",
       "</table>\n"
      ]
     },
     "metadata": {},
     "execution_count": 78
    }
   ],
   "source": [
    "# Show Results\n",
    "print(\"Base Model Results On RFE - RF Dataset\")\n",
    "show_results_frame(smote_results_frame)"
   ]
  },
  {
   "cell_type": "markdown",
   "source": [
    "### Comments\n",
    "\n",
    "Although the LR model has dropped in terms of accuracy, precision, and recall when compared to those in table 6 , RF & SVM both saw increases in the recall score. Suggesting oversampling is a good method to address the class imbalance and boost the recall score."
   ],
   "metadata": {
    "id": "f6oCMiEacVNx"
   }
  },
  {
   "cell_type": "markdown",
   "metadata": {
    "id": "V9Z4QHZDhwuw"
   },
   "source": [
    "## 10-Fold Validation of PMLW and Base Models"
   ]
  },
  {
   "cell_type": "code",
   "execution_count": 79,
   "metadata": {
    "id": "DzEXD60i7xrS"
   },
   "outputs": [],
   "source": [
    "# Ten Fold Validation Results Dict\n",
    "ten_fold_results_dict = {\"LR\":{\"name\":\"LR (10-Fold)\"}, \"RF\":{\"name\":\"RF (10-Fold)\"}, \"SVM\":{\"name\":\"SVM (10-Fold)\"}}"
   ]
  },
  {
   "cell_type": "code",
   "execution_count": 80,
   "metadata": {
    "id": "ts12obCq7S8M"
   },
   "outputs": [],
   "source": [
    "# Preprocess Data\n",
    "df = impute_missing_values_KNN()\n",
    "X = df.iloc[:,:len(df.columns)-1]\n",
    "y = df.iloc[:,len(df.columns)-1]\n",
    "X = return_features_selected_data_sets(X, 'RFE - RF')"
   ]
  },
  {
   "cell_type": "code",
   "execution_count": 81,
   "metadata": {
    "id": "WDDUdmrl2Sgq"
   },
   "outputs": [],
   "source": [
    "# 10-Fold Validation of all Base Models\n",
    "for key, model in base_models.items():\n",
    "  if model['scale']:\n",
    "    new_model = make_pipeline(StandardScaler(), model['model'])\n",
    "  else:\n",
    "    new_model = model['model']\n",
    "  kf = KFold(n_splits=10, shuffle=True)\n",
    "  cross_val_scores = cross_validate(new_model, X, y, cv=kf, scoring=['precision', 'recall', 'accuracy'])\n",
    "  ten_fold_results_dict[key]['accuracy'] = cross_val_scores['test_accuracy'].mean()\n",
    "  ten_fold_results_dict[key]['precision'] = cross_val_scores['test_precision'].mean()\n",
    "  ten_fold_results_dict[key]['recall'] = cross_val_scores['test_recall'].mean()\n",
    "# Create Results Frame\n",
    "ten_fold_results_frame = create_results_frame(ten_fold_results_dict)"
   ]
  },
  {
   "cell_type": "code",
   "execution_count": 83,
   "metadata": {
    "colab": {
     "base_uri": "https://localhost:8080/",
     "height": 161
    },
    "id": "VdFzlTHN8wSC",
    "outputId": "70b8e5a5-13a8-4194-f348-88b0b90b75c4"
   },
   "outputs": [
    {
     "output_type": "stream",
     "name": "stdout",
     "text": [
      "Base Models on Full PMLW\n"
     ]
    },
    {
     "output_type": "execute_result",
     "data": {
      "text/plain": [
       "<pandas.io.formats.style.Styler at 0x799ff0bc5150>"
      ],
      "text/html": [
       "<style type=\"text/css\">\n",
       "</style>\n",
       "<table id=\"T_f6b3b\" class=\"dataframe\">\n",
       "  <thead>\n",
       "    <tr>\n",
       "      <th id=\"T_f6b3b_level0_col0\" class=\"col_heading level0 col0\" >Model</th>\n",
       "      <th id=\"T_f6b3b_level0_col1\" class=\"col_heading level0 col1\" >Accuracy</th>\n",
       "      <th id=\"T_f6b3b_level0_col2\" class=\"col_heading level0 col2\" >Precision</th>\n",
       "      <th id=\"T_f6b3b_level0_col3\" class=\"col_heading level0 col3\" >Recall</th>\n",
       "    </tr>\n",
       "  </thead>\n",
       "  <tbody>\n",
       "    <tr>\n",
       "      <td id=\"T_f6b3b_row0_col0\" class=\"data row0 col0\" >LR (10-Fold)</td>\n",
       "      <td id=\"T_f6b3b_row0_col1\" class=\"data row0 col1\" >0.980608</td>\n",
       "      <td id=\"T_f6b3b_row0_col2\" class=\"data row0 col2\" >0.978671</td>\n",
       "      <td id=\"T_f6b3b_row0_col3\" class=\"data row0 col3\" >0.968609</td>\n",
       "    </tr>\n",
       "    <tr>\n",
       "      <td id=\"T_f6b3b_row1_col0\" class=\"data row1 col0\" >SVM (10-Fold)</td>\n",
       "      <td id=\"T_f6b3b_row1_col1\" class=\"data row1 col1\" >0.975219</td>\n",
       "      <td id=\"T_f6b3b_row1_col2\" class=\"data row1 col2\" >0.976104</td>\n",
       "      <td id=\"T_f6b3b_row1_col3\" class=\"data row1 col3\" >0.958493</td>\n",
       "    </tr>\n",
       "    <tr>\n",
       "      <td id=\"T_f6b3b_row2_col0\" class=\"data row2 col0\" >RF (10-Fold)</td>\n",
       "      <td id=\"T_f6b3b_row2_col1\" class=\"data row2 col1\" >0.970019</td>\n",
       "      <td id=\"T_f6b3b_row2_col2\" class=\"data row2 col2\" >0.970067</td>\n",
       "      <td id=\"T_f6b3b_row2_col3\" class=\"data row2 col3\" >0.947184</td>\n",
       "    </tr>\n",
       "  </tbody>\n",
       "</table>\n"
      ]
     },
     "metadata": {},
     "execution_count": 83
    }
   ],
   "source": [
    "# Show Results Frame\n",
    "print(\"Base Models on Full PMLW\")\n",
    "show_results_frame(ten_fold_results_frame)"
   ]
  },
  {
   "cell_type": "markdown",
   "source": [
    "### Comments\n",
    "Although the three metrics for LR have dropped compared to some of the base mode comparisons, it is worth noting the base models are all trained on a predetermined random state with no validation."
   ],
   "metadata": {
    "id": "yubTOfB1dM_D"
   }
  },
  {
   "cell_type": "markdown",
   "metadata": {
    "id": "bchBlCBu2WVX"
   },
   "source": [
    "# Final Model\n",
    "\n",
    "Logisitic Regression (LR) is the best performing terms of Recall (the more important metric to breast cancer). Therefore, we will move forward to hyper paramater optimization of the LR Model."
   ]
  },
  {
   "cell_type": "code",
   "execution_count": 84,
   "metadata": {
    "id": "Un6rwU98_6WE"
   },
   "outputs": [],
   "source": [
    "model = LogisticRegression()"
   ]
  },
  {
   "cell_type": "markdown",
   "metadata": {
    "id": "BM2vA1u7fuL2"
   },
   "source": [
    "## LR Hyper Parameter Optimisation\n",
    "\n",
    "Although argubaly there are not many critical hyper parameters within the logisitc regression that most important ones such as C, solver, and penalty have been fine ottimpized."
   ]
  },
  {
   "cell_type": "code",
   "execution_count": 85,
   "metadata": {
    "id": "LVMPFHMOA1m8"
   },
   "outputs": [],
   "source": [
    "# Hyper Parameter Results Dicts\n",
    "hyper_params_dict = {\"LR\":{\"name\":\"Logistic Regression\"}}\n",
    "param_dict = {\n",
    "      \"LR\":[{\n",
    "    'penalty': ['l2', 'none'],\n",
    "    'C': [ 0.01, 0.1, 1, 10, 100],\n",
    "    'fit_intercept': [True, False],\n",
    "    'solver': ['newton-cg', 'lbfgs', 'sag'],\n",
    "    'max_iter': [50, 100, 200, 400]\n",
    "    },{\n",
    "    'penalty': ['l2'],\n",
    "    'C': [0.01, 0.1, 1, 10, 100],\n",
    "    'fit_intercept': [True, False],\n",
    "    'solver': ['liblinear'],\n",
    "    'max_iter': [50, 100, 200, 400]\n",
    "    }]}"
   ]
  },
  {
   "cell_type": "code",
   "execution_count": 86,
   "metadata": {
    "id": "CtO6tZsMBTxh"
   },
   "outputs": [],
   "source": [
    "# Full Data Preprocessing of PMLW\n",
    "df = impute_missing_values_KNN()\n",
    "X = df.iloc[:,:len(df.columns)-1]\n",
    "y = df.iloc[:,len(df.columns)-1]\n",
    "X = return_features_selected_data_sets(X, 'RFE - RF')\n",
    "X_train, X_test, y_train, y_test = train_test_split(X, y, test_size=0.3, random_state=rand_state)\n",
    "X_train, y_train = oversample(X_train, y_train)\n",
    "X_train, X_test = scale_data_zscore(X_train, X_test)"
   ]
  },
  {
   "cell_type": "code",
   "execution_count": 87,
   "metadata": {
    "id": "fywFvRcpAvaN"
   },
   "outputs": [],
   "source": [
    "grid_search = GridSearchCV(estimator=model, param_grid=param_dict['LR'], cv=10, scoring='accuracy', n_jobs=2, error_score='raise')\n",
    "grid_search.fit(X_train, y_train)\n",
    "\n",
    "best_params = grid_search.best_params_\n",
    "\n",
    "# Stores Params in a dictionary so can be called upon later\n",
    "hyper_params_dict['LR']['best_params'] = best_params\n",
    "\n",
    "best_model = grid_search.best_estimator_\n",
    "y_pred = best_model.predict(X_test)\n",
    "\n",
    "# Stores Hyper Params Results On Test Set\n",
    "hyper_params_dict['LR']['accuracy'] = accuracy_score(y_test, y_pred)\n",
    "hyper_params_dict['LR']['precision'] = precision_score(y_test, y_pred, average='macro')\n",
    "hyper_params_dict['LR']['recall'] = recall_score(y_test, y_pred, average='macro')\n",
    "hyper_params_dict['LR']['y_test'] = y_test\n",
    "hyper_params_dict['LR']['y_pred'] = y_pred"
   ]
  },
  {
   "cell_type": "code",
   "execution_count": 92,
   "metadata": {
    "colab": {
     "base_uri": "https://localhost:8080/"
    },
    "id": "D5XqRXOJBQS7",
    "outputId": "78285284-1838-4afa-878e-41b6f5851e49"
   },
   "outputs": [
    {
     "output_type": "stream",
     "name": "stdout",
     "text": [
      "Best Params: {'C': 10, 'fit_intercept': True, 'max_iter': 50, 'penalty': 'l2', 'solver': 'newton-cg'}\n",
      "Model Performance:\n",
      "Accuracy: 0.9882352941176471\n",
      "Precision: 0.9857142857142858\n",
      "Recall: 0.9901960784313726\n"
     ]
    }
   ],
   "source": [
    "# Print Hyper Parameters Selected And Results On Test Set\n",
    "print(f\"Best Params: {hyper_params_dict['LR']['best_params']}\")\n",
    "print(\"Model Performance:\")\n",
    "print(f\"Accuracy: {hyper_params_dict['LR']['accuracy']}\")\n",
    "print(f\"Precision: {hyper_params_dict['LR']['precision']}\")\n",
    "print(f\"Recall: {hyper_params_dict['LR']['recall']}\")"
   ]
  },
  {
   "cell_type": "markdown",
   "source": [
    "# Full PMLW Holdout Validation & Comparison\n",
    "\n",
    "Please Note: The following results within this section might not accurately reflect the those of the concluding remarks, however they should be of a very similiar nature considering the validation is done over a one thousand run holdout."
   ],
   "metadata": {
    "id": "8lK2y_DTeQy1"
   }
  },
  {
   "cell_type": "markdown",
   "metadata": {
    "id": "O742QmHzinjx"
   },
   "source": [
    "## Utils"
   ]
  },
  {
   "cell_type": "code",
   "execution_count": 93,
   "metadata": {
    "id": "ei-2zWlyQYV3"
   },
   "outputs": [],
   "source": [
    "num_runs=1000"
   ]
  },
  {
   "cell_type": "code",
   "execution_count": 94,
   "metadata": {
    "id": "fKW3tXMtPMZH"
   },
   "outputs": [],
   "source": [
    "def test_train_split_oversample(X, y):\n",
    "  ''' Splits Test Train Data While Applying SMOTE() to X_train and Y_train'''\n",
    "  X_train, X_test, y_train, y_test = train_test_split(X, y, test_size=0.3, random_state=None)\n",
    "  smote = SMOTE(random_state=None)\n",
    "  X_train_resampled, y_train_resampled = smote.fit_resample(X_train, y_train)\n",
    "  X_train_resampled = pd.DataFrame(X_train_resampled, columns=X_train.columns)\n",
    "  X_test = pd.DataFrame(X_test, columns=X_train.columns)\n",
    "  return X_train_resampled, X_test, y_train_resampled, y_test\n",
    "\n",
    "def print_holdout_results(holdout_validation_dict):\n",
    "  ''' Prints Holdout Validation Results'''\n",
    "  print(f\"Accuracy: {round((np.array(holdout_validation_dict['LR']['accuracy']).mean()),6)}, (+/- {round((np.array(holdout_validation_dict['LR']['accuracy']).std()*2),3)})\")\n",
    "  print(f\"Percision: {round((np.array(holdout_validation_dict['LR']['precision']).mean()),6)}, (+/- {round((np.array(holdout_validation_dict['LR']['precision']).std()*2),3)})\")\n",
    "  print(f\"Recall: {round((np.array(holdout_validation_dict['LR']['recall']).mean()),6)}, (+/- {round((np.array(holdout_validation_dict['LR']['recall']).std()*2),3)})\")"
   ]
  },
  {
   "cell_type": "markdown",
   "metadata": {
    "id": "fqjr4-2_rqi5"
   },
   "source": [
    "## Full PMLW"
   ]
  },
  {
   "cell_type": "code",
   "execution_count": 95,
   "metadata": {
    "colab": {
     "base_uri": "https://localhost:8080/",
     "height": 75
    },
    "id": "RyTxNpFnOZMU",
    "outputId": "3cc94f7e-2f80-4b0b-8833-ee208f951a52"
   },
   "outputs": [
    {
     "output_type": "execute_result",
     "data": {
      "text/plain": [
       "LogisticRegression(C=10, max_iter=50, solver='newton-cg')"
      ],
      "text/html": [
       "<style>#sk-container-id-2 {color: black;background-color: white;}#sk-container-id-2 pre{padding: 0;}#sk-container-id-2 div.sk-toggleable {background-color: white;}#sk-container-id-2 label.sk-toggleable__label {cursor: pointer;display: block;width: 100%;margin-bottom: 0;padding: 0.3em;box-sizing: border-box;text-align: center;}#sk-container-id-2 label.sk-toggleable__label-arrow:before {content: \"▸\";float: left;margin-right: 0.25em;color: #696969;}#sk-container-id-2 label.sk-toggleable__label-arrow:hover:before {color: black;}#sk-container-id-2 div.sk-estimator:hover label.sk-toggleable__label-arrow:before {color: black;}#sk-container-id-2 div.sk-toggleable__content {max-height: 0;max-width: 0;overflow: hidden;text-align: left;background-color: #f0f8ff;}#sk-container-id-2 div.sk-toggleable__content pre {margin: 0.2em;color: black;border-radius: 0.25em;background-color: #f0f8ff;}#sk-container-id-2 input.sk-toggleable__control:checked~div.sk-toggleable__content {max-height: 200px;max-width: 100%;overflow: auto;}#sk-container-id-2 input.sk-toggleable__control:checked~label.sk-toggleable__label-arrow:before {content: \"▾\";}#sk-container-id-2 div.sk-estimator input.sk-toggleable__control:checked~label.sk-toggleable__label {background-color: #d4ebff;}#sk-container-id-2 div.sk-label input.sk-toggleable__control:checked~label.sk-toggleable__label {background-color: #d4ebff;}#sk-container-id-2 input.sk-hidden--visually {border: 0;clip: rect(1px 1px 1px 1px);clip: rect(1px, 1px, 1px, 1px);height: 1px;margin: -1px;overflow: hidden;padding: 0;position: absolute;width: 1px;}#sk-container-id-2 div.sk-estimator {font-family: monospace;background-color: #f0f8ff;border: 1px dotted black;border-radius: 0.25em;box-sizing: border-box;margin-bottom: 0.5em;}#sk-container-id-2 div.sk-estimator:hover {background-color: #d4ebff;}#sk-container-id-2 div.sk-parallel-item::after {content: \"\";width: 100%;border-bottom: 1px solid gray;flex-grow: 1;}#sk-container-id-2 div.sk-label:hover label.sk-toggleable__label {background-color: #d4ebff;}#sk-container-id-2 div.sk-serial::before {content: \"\";position: absolute;border-left: 1px solid gray;box-sizing: border-box;top: 0;bottom: 0;left: 50%;z-index: 0;}#sk-container-id-2 div.sk-serial {display: flex;flex-direction: column;align-items: center;background-color: white;padding-right: 0.2em;padding-left: 0.2em;position: relative;}#sk-container-id-2 div.sk-item {position: relative;z-index: 1;}#sk-container-id-2 div.sk-parallel {display: flex;align-items: stretch;justify-content: center;background-color: white;position: relative;}#sk-container-id-2 div.sk-item::before, #sk-container-id-2 div.sk-parallel-item::before {content: \"\";position: absolute;border-left: 1px solid gray;box-sizing: border-box;top: 0;bottom: 0;left: 50%;z-index: -1;}#sk-container-id-2 div.sk-parallel-item {display: flex;flex-direction: column;z-index: 1;position: relative;background-color: white;}#sk-container-id-2 div.sk-parallel-item:first-child::after {align-self: flex-end;width: 50%;}#sk-container-id-2 div.sk-parallel-item:last-child::after {align-self: flex-start;width: 50%;}#sk-container-id-2 div.sk-parallel-item:only-child::after {width: 0;}#sk-container-id-2 div.sk-dashed-wrapped {border: 1px dashed gray;margin: 0 0.4em 0.5em 0.4em;box-sizing: border-box;padding-bottom: 0.4em;background-color: white;}#sk-container-id-2 div.sk-label label {font-family: monospace;font-weight: bold;display: inline-block;line-height: 1.2em;}#sk-container-id-2 div.sk-label-container {text-align: center;}#sk-container-id-2 div.sk-container {/* jupyter's `normalize.less` sets `[hidden] { display: none; }` but bootstrap.min.css set `[hidden] { display: none !important; }` so we also need the `!important` here to be able to override the default hidden behavior on the sphinx rendered scikit-learn.org. See: https://github.com/scikit-learn/scikit-learn/issues/21755 */display: inline-block !important;position: relative;}#sk-container-id-2 div.sk-text-repr-fallback {display: none;}</style><div id=\"sk-container-id-2\" class=\"sk-top-container\"><div class=\"sk-text-repr-fallback\"><pre>LogisticRegression(C=10, max_iter=50, solver=&#x27;newton-cg&#x27;)</pre><b>In a Jupyter environment, please rerun this cell to show the HTML representation or trust the notebook. <br />On GitHub, the HTML representation is unable to render, please try loading this page with nbviewer.org.</b></div><div class=\"sk-container\" hidden><div class=\"sk-item\"><div class=\"sk-estimator sk-toggleable\"><input class=\"sk-toggleable__control sk-hidden--visually\" id=\"sk-estimator-id-2\" type=\"checkbox\" checked><label for=\"sk-estimator-id-2\" class=\"sk-toggleable__label sk-toggleable__label-arrow\">LogisticRegression</label><div class=\"sk-toggleable__content\"><pre>LogisticRegression(C=10, max_iter=50, solver=&#x27;newton-cg&#x27;)</pre></div></div></div></div></div>"
      ]
     },
     "metadata": {},
     "execution_count": 95
    }
   ],
   "source": [
    "# Model\n",
    "model = LogisticRegression()\n",
    "model.set_params(**hyper_params_dict['LR']['best_params'])"
   ]
  },
  {
   "cell_type": "code",
   "execution_count": 96,
   "metadata": {
    "id": "PZXcbpHbPPa2"
   },
   "outputs": [],
   "source": [
    "# Data Split\n",
    "df = impute_missing_values_KNN()\n",
    "X = df.iloc[:,:len(df.columns)-1]\n",
    "y = df.iloc[:,len(df.columns)-1]\n",
    "X = return_features_selected_data_sets(X, 'RFE - RF')"
   ]
  },
  {
   "cell_type": "code",
   "execution_count": 97,
   "metadata": {
    "id": "t8faAUKMQUAy"
   },
   "outputs": [],
   "source": [
    "# Results Dict\n",
    "holdout_validation_dict_RFERF = {\"LR\":{\"name\":\"LR (PMLW)\", \"accuracy\":[], \"precision\":[], \"recall\":[], \"confusion_matrix\":[]}}\n",
    "# Holdout Run\n",
    "for i in range(0, num_runs):\n",
    "  X_train, X_test, y_train, y_test = test_train_split_oversample(X,y)\n",
    "  X_train, X_test = scale_data_zscore(X_train, X_test)\n",
    "  model.fit(X_train, y_train)\n",
    "  y_pred = model.predict(X_test)\n",
    "  add_result(holdout_validation_dict_RFERF, 'LR', y_test, y_pred, multi=True)"
   ]
  },
  {
   "cell_type": "code",
   "execution_count": 98,
   "metadata": {
    "colab": {
     "base_uri": "https://localhost:8080/"
    },
    "id": "tOIXBXR-QFNe",
    "outputId": "0e81c643-e3ea-4f78-ad4d-9f89a541945d"
   },
   "outputs": [
    {
     "output_type": "stream",
     "name": "stdout",
     "text": [
      "After 1000:\n",
      "Accuracy: 0.973135, (+/- 0.022)\n",
      "Percision: 0.971688, (+/- 0.024)\n",
      "Recall: 0.970968, (+/- 0.024)\n"
     ]
    }
   ],
   "source": [
    "# Final Results\n",
    "print(f\"After {num_runs}:\")\n",
    "print_holdout_results(holdout_validation_dict_RFERF)"
   ]
  },
  {
   "cell_type": "markdown",
   "metadata": {
    "id": "0pQFqWc6e_fe"
   },
   "source": [
    "## Utilities"
   ]
  },
  {
   "cell_type": "code",
   "execution_count": null,
   "metadata": {
    "id": "gI6vNA99e_fo"
   },
   "outputs": [],
   "source": [
    "num_runs=1000"
   ]
  },
  {
   "cell_type": "code",
   "execution_count": null,
   "metadata": {
    "id": "2DqIFQM6e_fo"
   },
   "outputs": [],
   "source": [
    "def test_train_split_oversample(X, y):\n",
    "  ''' Splits Test Train Data While Applying SMOTE() to X_train and Y_train'''\n",
    "  X_train, X_test, y_train, y_test = train_test_split(X, y, test_size=0.3, random_state=None)\n",
    "  smote = SMOTE(random_state=None)\n",
    "  X_train_resampled, y_train_resampled = smote.fit_resample(X_train, y_train)\n",
    "  X_train_resampled = pd.DataFrame(X_train_resampled, columns=X_train.columns)\n",
    "  X_test = pd.DataFrame(X_test, columns=X_train.columns)\n",
    "  return X_train_resampled, X_test, y_train_resampled, y_test\n",
    "\n",
    "def print_holdout_results(holdout_validation_dict):\n",
    "  ''' Prints Holdout Validation Results'''\n",
    "  print(f\"Accuracy: {round((np.array(holdout_validation_dict['LR']['accuracy']).mean()),6)}, (+/- {round((np.array(holdout_validation_dict['LR']['accuracy']).std()*2),3)})\")\n",
    "  print(f\"Percision: {round((np.array(holdout_validation_dict['LR']['precision']).mean()),6)}, (+/- {round((np.array(holdout_validation_dict['LR']['precision']).std()*2),3)})\")\n",
    "  print(f\"Recall: {round((np.array(holdout_validation_dict['LR']['recall']).mean()),6)}, (+/- {round((np.array(holdout_validation_dict['LR']['recall']).std()*2),3)})\")"
   ]
  },
  {
   "cell_type": "markdown",
   "metadata": {
    "id": "6nnP7Emre_fo"
   },
   "source": [
    "## Full PMLW"
   ]
  },
  {
   "cell_type": "code",
   "execution_count": null,
   "metadata": {
    "colab": {
     "base_uri": "https://localhost:8080/",
     "height": 75
    },
    "outputId": "7b80ba45-d645-466f-ae50-4be355dd5657",
    "id": "mBWTz8ege_fp"
   },
   "outputs": [
    {
     "data": {
      "text/html": [
       "<style>#sk-container-id-1 {color: black;background-color: white;}#sk-container-id-1 pre{padding: 0;}#sk-container-id-1 div.sk-toggleable {background-color: white;}#sk-container-id-1 label.sk-toggleable__label {cursor: pointer;display: block;width: 100%;margin-bottom: 0;padding: 0.3em;box-sizing: border-box;text-align: center;}#sk-container-id-1 label.sk-toggleable__label-arrow:before {content: \"▸\";float: left;margin-right: 0.25em;color: #696969;}#sk-container-id-1 label.sk-toggleable__label-arrow:hover:before {color: black;}#sk-container-id-1 div.sk-estimator:hover label.sk-toggleable__label-arrow:before {color: black;}#sk-container-id-1 div.sk-toggleable__content {max-height: 0;max-width: 0;overflow: hidden;text-align: left;background-color: #f0f8ff;}#sk-container-id-1 div.sk-toggleable__content pre {margin: 0.2em;color: black;border-radius: 0.25em;background-color: #f0f8ff;}#sk-container-id-1 input.sk-toggleable__control:checked~div.sk-toggleable__content {max-height: 200px;max-width: 100%;overflow: auto;}#sk-container-id-1 input.sk-toggleable__control:checked~label.sk-toggleable__label-arrow:before {content: \"▾\";}#sk-container-id-1 div.sk-estimator input.sk-toggleable__control:checked~label.sk-toggleable__label {background-color: #d4ebff;}#sk-container-id-1 div.sk-label input.sk-toggleable__control:checked~label.sk-toggleable__label {background-color: #d4ebff;}#sk-container-id-1 input.sk-hidden--visually {border: 0;clip: rect(1px 1px 1px 1px);clip: rect(1px, 1px, 1px, 1px);height: 1px;margin: -1px;overflow: hidden;padding: 0;position: absolute;width: 1px;}#sk-container-id-1 div.sk-estimator {font-family: monospace;background-color: #f0f8ff;border: 1px dotted black;border-radius: 0.25em;box-sizing: border-box;margin-bottom: 0.5em;}#sk-container-id-1 div.sk-estimator:hover {background-color: #d4ebff;}#sk-container-id-1 div.sk-parallel-item::after {content: \"\";width: 100%;border-bottom: 1px solid gray;flex-grow: 1;}#sk-container-id-1 div.sk-label:hover label.sk-toggleable__label {background-color: #d4ebff;}#sk-container-id-1 div.sk-serial::before {content: \"\";position: absolute;border-left: 1px solid gray;box-sizing: border-box;top: 0;bottom: 0;left: 50%;z-index: 0;}#sk-container-id-1 div.sk-serial {display: flex;flex-direction: column;align-items: center;background-color: white;padding-right: 0.2em;padding-left: 0.2em;position: relative;}#sk-container-id-1 div.sk-item {position: relative;z-index: 1;}#sk-container-id-1 div.sk-parallel {display: flex;align-items: stretch;justify-content: center;background-color: white;position: relative;}#sk-container-id-1 div.sk-item::before, #sk-container-id-1 div.sk-parallel-item::before {content: \"\";position: absolute;border-left: 1px solid gray;box-sizing: border-box;top: 0;bottom: 0;left: 50%;z-index: -1;}#sk-container-id-1 div.sk-parallel-item {display: flex;flex-direction: column;z-index: 1;position: relative;background-color: white;}#sk-container-id-1 div.sk-parallel-item:first-child::after {align-self: flex-end;width: 50%;}#sk-container-id-1 div.sk-parallel-item:last-child::after {align-self: flex-start;width: 50%;}#sk-container-id-1 div.sk-parallel-item:only-child::after {width: 0;}#sk-container-id-1 div.sk-dashed-wrapped {border: 1px dashed gray;margin: 0 0.4em 0.5em 0.4em;box-sizing: border-box;padding-bottom: 0.4em;background-color: white;}#sk-container-id-1 div.sk-label label {font-family: monospace;font-weight: bold;display: inline-block;line-height: 1.2em;}#sk-container-id-1 div.sk-label-container {text-align: center;}#sk-container-id-1 div.sk-container {/* jupyter's `normalize.less` sets `[hidden] { display: none; }` but bootstrap.min.css set `[hidden] { display: none !important; }` so we also need the `!important` here to be able to override the default hidden behavior on the sphinx rendered scikit-learn.org. See: https://github.com/scikit-learn/scikit-learn/issues/21755 */display: inline-block !important;position: relative;}#sk-container-id-1 div.sk-text-repr-fallback {display: none;}</style><div id=\"sk-container-id-1\" class=\"sk-top-container\"><div class=\"sk-text-repr-fallback\"><pre>LogisticRegression(C=10, max_iter=50, solver=&#x27;newton-cg&#x27;)</pre><b>In a Jupyter environment, please rerun this cell to show the HTML representation or trust the notebook. <br />On GitHub, the HTML representation is unable to render, please try loading this page with nbviewer.org.</b></div><div class=\"sk-container\" hidden><div class=\"sk-item\"><div class=\"sk-estimator sk-toggleable\"><input class=\"sk-toggleable__control sk-hidden--visually\" id=\"sk-estimator-id-1\" type=\"checkbox\" checked><label for=\"sk-estimator-id-1\" class=\"sk-toggleable__label sk-toggleable__label-arrow\">LogisticRegression</label><div class=\"sk-toggleable__content\"><pre>LogisticRegression(C=10, max_iter=50, solver=&#x27;newton-cg&#x27;)</pre></div></div></div></div></div>"
      ],
      "text/plain": [
       "LogisticRegression(C=10, max_iter=50, solver='newton-cg')"
      ]
     },
     "execution_count": 209,
     "metadata": {},
     "output_type": "execute_result"
    }
   ],
   "source": [
    "# Model\n",
    "model = LogisticRegression()\n",
    "model.set_params(**hyper_params_dict['LR']['best_params'])"
   ]
  },
  {
   "cell_type": "code",
   "execution_count": null,
   "metadata": {
    "id": "LPQsvQhoe_fp"
   },
   "outputs": [],
   "source": [
    "# Data Split\n",
    "df = impute_missing_values_KNN()\n",
    "X = df.iloc[:,:len(df.columns)-1]\n",
    "y = df.iloc[:,len(df.columns)-1]\n",
    "X = return_features_selected_data_sets(X, 'RFE - RF')"
   ]
  },
  {
   "cell_type": "code",
   "execution_count": null,
   "metadata": {
    "id": "-h6iMQSme_fp"
   },
   "outputs": [],
   "source": [
    "# Results Dict\n",
    "holdout_validation_dict_RFERF = {\"LR\":{\"name\":\"LR (PMLW)\", \"accuracy\":[], \"precision\":[], \"recall\":[], \"confusion_matrix\":[]}}\n",
    "# Holdout Run\n",
    "for i in range(0, num_runs):\n",
    "  X_train, X_test, y_train, y_test = test_train_split_oversample(X,y)\n",
    "  X_train, X_test = scale_data_zscore(X_train, X_test)\n",
    "  model.fit(X_train, y_train)\n",
    "  y_pred = model.predict(X_test)\n",
    "  add_result(holdout_validation_dict_RFERF, 'LR', y_test, y_pred, multi=True)"
   ]
  },
  {
   "cell_type": "code",
   "execution_count": null,
   "metadata": {
    "colab": {
     "base_uri": "https://localhost:8080/"
    },
    "outputId": "be420f66-b5d9-4cd7-b076-c40746c1f0e9",
    "id": "SrJdf7Kse_fp"
   },
   "outputs": [
    {
     "name": "stdout",
     "output_type": "stream",
     "text": [
      "After 1000:\n",
      "Accuracy: 0.973124, (+/- 0.022)\n",
      "Percision: 0.971489, (+/- 0.025)\n",
      "Recall: 0.971094, (+/- 0.025)\n"
     ]
    }
   ],
   "source": [
    "# Final Results\n",
    "print(f\"After {num_runs}:\")\n",
    "print_holdout_results(holdout_validation_dict_RFERF)"
   ]
  },
  {
   "cell_type": "markdown",
   "metadata": {
    "id": "KU-Fk_aIe_fp"
   },
   "source": [
    "## PMLW on RFE-SVM Dataset"
   ]
  },
  {
   "cell_type": "code",
   "execution_count": null,
   "metadata": {
    "colab": {
     "base_uri": "https://localhost:8080/",
     "height": 75
    },
    "outputId": "091afc7b-a4f3-469b-e2e4-e061fe6dc96d",
    "id": "qfBlSxj-e_fq"
   },
   "outputs": [
    {
     "data": {
      "text/html": [
       "<style>#sk-container-id-2 {color: black;background-color: white;}#sk-container-id-2 pre{padding: 0;}#sk-container-id-2 div.sk-toggleable {background-color: white;}#sk-container-id-2 label.sk-toggleable__label {cursor: pointer;display: block;width: 100%;margin-bottom: 0;padding: 0.3em;box-sizing: border-box;text-align: center;}#sk-container-id-2 label.sk-toggleable__label-arrow:before {content: \"▸\";float: left;margin-right: 0.25em;color: #696969;}#sk-container-id-2 label.sk-toggleable__label-arrow:hover:before {color: black;}#sk-container-id-2 div.sk-estimator:hover label.sk-toggleable__label-arrow:before {color: black;}#sk-container-id-2 div.sk-toggleable__content {max-height: 0;max-width: 0;overflow: hidden;text-align: left;background-color: #f0f8ff;}#sk-container-id-2 div.sk-toggleable__content pre {margin: 0.2em;color: black;border-radius: 0.25em;background-color: #f0f8ff;}#sk-container-id-2 input.sk-toggleable__control:checked~div.sk-toggleable__content {max-height: 200px;max-width: 100%;overflow: auto;}#sk-container-id-2 input.sk-toggleable__control:checked~label.sk-toggleable__label-arrow:before {content: \"▾\";}#sk-container-id-2 div.sk-estimator input.sk-toggleable__control:checked~label.sk-toggleable__label {background-color: #d4ebff;}#sk-container-id-2 div.sk-label input.sk-toggleable__control:checked~label.sk-toggleable__label {background-color: #d4ebff;}#sk-container-id-2 input.sk-hidden--visually {border: 0;clip: rect(1px 1px 1px 1px);clip: rect(1px, 1px, 1px, 1px);height: 1px;margin: -1px;overflow: hidden;padding: 0;position: absolute;width: 1px;}#sk-container-id-2 div.sk-estimator {font-family: monospace;background-color: #f0f8ff;border: 1px dotted black;border-radius: 0.25em;box-sizing: border-box;margin-bottom: 0.5em;}#sk-container-id-2 div.sk-estimator:hover {background-color: #d4ebff;}#sk-container-id-2 div.sk-parallel-item::after {content: \"\";width: 100%;border-bottom: 1px solid gray;flex-grow: 1;}#sk-container-id-2 div.sk-label:hover label.sk-toggleable__label {background-color: #d4ebff;}#sk-container-id-2 div.sk-serial::before {content: \"\";position: absolute;border-left: 1px solid gray;box-sizing: border-box;top: 0;bottom: 0;left: 50%;z-index: 0;}#sk-container-id-2 div.sk-serial {display: flex;flex-direction: column;align-items: center;background-color: white;padding-right: 0.2em;padding-left: 0.2em;position: relative;}#sk-container-id-2 div.sk-item {position: relative;z-index: 1;}#sk-container-id-2 div.sk-parallel {display: flex;align-items: stretch;justify-content: center;background-color: white;position: relative;}#sk-container-id-2 div.sk-item::before, #sk-container-id-2 div.sk-parallel-item::before {content: \"\";position: absolute;border-left: 1px solid gray;box-sizing: border-box;top: 0;bottom: 0;left: 50%;z-index: -1;}#sk-container-id-2 div.sk-parallel-item {display: flex;flex-direction: column;z-index: 1;position: relative;background-color: white;}#sk-container-id-2 div.sk-parallel-item:first-child::after {align-self: flex-end;width: 50%;}#sk-container-id-2 div.sk-parallel-item:last-child::after {align-self: flex-start;width: 50%;}#sk-container-id-2 div.sk-parallel-item:only-child::after {width: 0;}#sk-container-id-2 div.sk-dashed-wrapped {border: 1px dashed gray;margin: 0 0.4em 0.5em 0.4em;box-sizing: border-box;padding-bottom: 0.4em;background-color: white;}#sk-container-id-2 div.sk-label label {font-family: monospace;font-weight: bold;display: inline-block;line-height: 1.2em;}#sk-container-id-2 div.sk-label-container {text-align: center;}#sk-container-id-2 div.sk-container {/* jupyter's `normalize.less` sets `[hidden] { display: none; }` but bootstrap.min.css set `[hidden] { display: none !important; }` so we also need the `!important` here to be able to override the default hidden behavior on the sphinx rendered scikit-learn.org. See: https://github.com/scikit-learn/scikit-learn/issues/21755 */display: inline-block !important;position: relative;}#sk-container-id-2 div.sk-text-repr-fallback {display: none;}</style><div id=\"sk-container-id-2\" class=\"sk-top-container\"><div class=\"sk-text-repr-fallback\"><pre>LogisticRegression(C=10, max_iter=50, solver=&#x27;newton-cg&#x27;)</pre><b>In a Jupyter environment, please rerun this cell to show the HTML representation or trust the notebook. <br />On GitHub, the HTML representation is unable to render, please try loading this page with nbviewer.org.</b></div><div class=\"sk-container\" hidden><div class=\"sk-item\"><div class=\"sk-estimator sk-toggleable\"><input class=\"sk-toggleable__control sk-hidden--visually\" id=\"sk-estimator-id-2\" type=\"checkbox\" checked><label for=\"sk-estimator-id-2\" class=\"sk-toggleable__label sk-toggleable__label-arrow\">LogisticRegression</label><div class=\"sk-toggleable__content\"><pre>LogisticRegression(C=10, max_iter=50, solver=&#x27;newton-cg&#x27;)</pre></div></div></div></div></div>"
      ],
      "text/plain": [
       "LogisticRegression(C=10, max_iter=50, solver='newton-cg')"
      ]
     },
     "execution_count": 213,
     "metadata": {},
     "output_type": "execute_result"
    }
   ],
   "source": [
    "# Model\n",
    "model = LogisticRegression()\n",
    "model.set_params(**hyper_params_dict['LR']['best_params'])"
   ]
  },
  {
   "cell_type": "code",
   "execution_count": null,
   "metadata": {
    "id": "7RNSly83e_fq"
   },
   "outputs": [],
   "source": [
    "# Data Split\n",
    "df = impute_missing_values_KNN()\n",
    "X = df.iloc[:,:len(df.columns)-1]\n",
    "y = df.iloc[:,len(df.columns)-1]\n",
    "X = return_features_selected_data_sets(X, 'RFE - SVM')"
   ]
  },
  {
   "cell_type": "code",
   "execution_count": null,
   "metadata": {
    "id": "1p1g2SXGe_fq"
   },
   "outputs": [],
   "source": [
    "# Results Dict\n",
    "holdout_validation_dict_RFESVM = {\"LR\":{\"name\":\"LR (RFE-SVM)\", \"accuracy\":[], \"precision\":[], \"recall\":[], \"confusion_matrix\":[]}}\n",
    "#Holdout Run\n",
    "for i in range(0, num_runs):\n",
    "  X_train, X_test, y_train, y_test = test_train_split_oversample(X,y)\n",
    "  X_train, X_test = scale_data_zscore(X_train, X_test)\n",
    "  model.fit(X_train, y_train)\n",
    "  y_pred = model.predict(X_test)\n",
    "  add_result(holdout_validation_dict_RFESVM, 'LR', y_test, y_pred, multi=True)"
   ]
  },
  {
   "cell_type": "code",
   "execution_count": null,
   "metadata": {
    "colab": {
     "base_uri": "https://localhost:8080/"
    },
    "outputId": "2df837fd-9748-43dc-93a8-368afbda6d14",
    "id": "7xAsD8pve_fq"
   },
   "outputs": [
    {
     "name": "stdout",
     "output_type": "stream",
     "text": [
      "After 1000:\n",
      "Accuracy: 0.968276, (+/- 0.023)\n",
      "Percision: 0.966173, (+/- 0.026)\n",
      "Recall: 0.966212, (+/- 0.024)\n"
     ]
    }
   ],
   "source": [
    "# Final Results\n",
    "print(f\"After {num_runs}:\")\n",
    "print_holdout_results(holdout_validation_dict_RFESVM)"
   ]
  },
  {
   "cell_type": "markdown",
   "metadata": {
    "id": "p8y9qxV9e_fq"
   },
   "source": [
    "## PMLW on Full Dataset"
   ]
  },
  {
   "cell_type": "code",
   "execution_count": null,
   "metadata": {
    "colab": {
     "base_uri": "https://localhost:8080/",
     "height": 75
    },
    "outputId": "84c50c65-32cc-40ef-a716-cd89e270c2f3",
    "id": "iBrATpJbe_fq"
   },
   "outputs": [
    {
     "data": {
      "text/html": [
       "<style>#sk-container-id-3 {color: black;background-color: white;}#sk-container-id-3 pre{padding: 0;}#sk-container-id-3 div.sk-toggleable {background-color: white;}#sk-container-id-3 label.sk-toggleable__label {cursor: pointer;display: block;width: 100%;margin-bottom: 0;padding: 0.3em;box-sizing: border-box;text-align: center;}#sk-container-id-3 label.sk-toggleable__label-arrow:before {content: \"▸\";float: left;margin-right: 0.25em;color: #696969;}#sk-container-id-3 label.sk-toggleable__label-arrow:hover:before {color: black;}#sk-container-id-3 div.sk-estimator:hover label.sk-toggleable__label-arrow:before {color: black;}#sk-container-id-3 div.sk-toggleable__content {max-height: 0;max-width: 0;overflow: hidden;text-align: left;background-color: #f0f8ff;}#sk-container-id-3 div.sk-toggleable__content pre {margin: 0.2em;color: black;border-radius: 0.25em;background-color: #f0f8ff;}#sk-container-id-3 input.sk-toggleable__control:checked~div.sk-toggleable__content {max-height: 200px;max-width: 100%;overflow: auto;}#sk-container-id-3 input.sk-toggleable__control:checked~label.sk-toggleable__label-arrow:before {content: \"▾\";}#sk-container-id-3 div.sk-estimator input.sk-toggleable__control:checked~label.sk-toggleable__label {background-color: #d4ebff;}#sk-container-id-3 div.sk-label input.sk-toggleable__control:checked~label.sk-toggleable__label {background-color: #d4ebff;}#sk-container-id-3 input.sk-hidden--visually {border: 0;clip: rect(1px 1px 1px 1px);clip: rect(1px, 1px, 1px, 1px);height: 1px;margin: -1px;overflow: hidden;padding: 0;position: absolute;width: 1px;}#sk-container-id-3 div.sk-estimator {font-family: monospace;background-color: #f0f8ff;border: 1px dotted black;border-radius: 0.25em;box-sizing: border-box;margin-bottom: 0.5em;}#sk-container-id-3 div.sk-estimator:hover {background-color: #d4ebff;}#sk-container-id-3 div.sk-parallel-item::after {content: \"\";width: 100%;border-bottom: 1px solid gray;flex-grow: 1;}#sk-container-id-3 div.sk-label:hover label.sk-toggleable__label {background-color: #d4ebff;}#sk-container-id-3 div.sk-serial::before {content: \"\";position: absolute;border-left: 1px solid gray;box-sizing: border-box;top: 0;bottom: 0;left: 50%;z-index: 0;}#sk-container-id-3 div.sk-serial {display: flex;flex-direction: column;align-items: center;background-color: white;padding-right: 0.2em;padding-left: 0.2em;position: relative;}#sk-container-id-3 div.sk-item {position: relative;z-index: 1;}#sk-container-id-3 div.sk-parallel {display: flex;align-items: stretch;justify-content: center;background-color: white;position: relative;}#sk-container-id-3 div.sk-item::before, #sk-container-id-3 div.sk-parallel-item::before {content: \"\";position: absolute;border-left: 1px solid gray;box-sizing: border-box;top: 0;bottom: 0;left: 50%;z-index: -1;}#sk-container-id-3 div.sk-parallel-item {display: flex;flex-direction: column;z-index: 1;position: relative;background-color: white;}#sk-container-id-3 div.sk-parallel-item:first-child::after {align-self: flex-end;width: 50%;}#sk-container-id-3 div.sk-parallel-item:last-child::after {align-self: flex-start;width: 50%;}#sk-container-id-3 div.sk-parallel-item:only-child::after {width: 0;}#sk-container-id-3 div.sk-dashed-wrapped {border: 1px dashed gray;margin: 0 0.4em 0.5em 0.4em;box-sizing: border-box;padding-bottom: 0.4em;background-color: white;}#sk-container-id-3 div.sk-label label {font-family: monospace;font-weight: bold;display: inline-block;line-height: 1.2em;}#sk-container-id-3 div.sk-label-container {text-align: center;}#sk-container-id-3 div.sk-container {/* jupyter's `normalize.less` sets `[hidden] { display: none; }` but bootstrap.min.css set `[hidden] { display: none !important; }` so we also need the `!important` here to be able to override the default hidden behavior on the sphinx rendered scikit-learn.org. See: https://github.com/scikit-learn/scikit-learn/issues/21755 */display: inline-block !important;position: relative;}#sk-container-id-3 div.sk-text-repr-fallback {display: none;}</style><div id=\"sk-container-id-3\" class=\"sk-top-container\"><div class=\"sk-text-repr-fallback\"><pre>LogisticRegression(C=10, max_iter=50, solver=&#x27;newton-cg&#x27;)</pre><b>In a Jupyter environment, please rerun this cell to show the HTML representation or trust the notebook. <br />On GitHub, the HTML representation is unable to render, please try loading this page with nbviewer.org.</b></div><div class=\"sk-container\" hidden><div class=\"sk-item\"><div class=\"sk-estimator sk-toggleable\"><input class=\"sk-toggleable__control sk-hidden--visually\" id=\"sk-estimator-id-3\" type=\"checkbox\" checked><label for=\"sk-estimator-id-3\" class=\"sk-toggleable__label sk-toggleable__label-arrow\">LogisticRegression</label><div class=\"sk-toggleable__content\"><pre>LogisticRegression(C=10, max_iter=50, solver=&#x27;newton-cg&#x27;)</pre></div></div></div></div></div>"
      ],
      "text/plain": [
       "LogisticRegression(C=10, max_iter=50, solver='newton-cg')"
      ]
     },
     "execution_count": 217,
     "metadata": {},
     "output_type": "execute_result"
    }
   ],
   "source": [
    "# Model\n",
    "model = LogisticRegression()\n",
    "model.set_params(**hyper_params_dict['LR']['best_params'])"
   ]
  },
  {
   "cell_type": "code",
   "execution_count": null,
   "metadata": {
    "id": "4IQj4_Exe_fr"
   },
   "outputs": [],
   "source": [
    "# Data Split\n",
    "df = impute_missing_values_KNN()\n",
    "X = df.iloc[:,:len(df.columns)-1]\n",
    "y = df.iloc[:,len(df.columns)-1]"
   ]
  },
  {
   "cell_type": "code",
   "execution_count": null,
   "metadata": {
    "id": "IC_ziJBKe_fr"
   },
   "outputs": [],
   "source": [
    "# Results Dict\n",
    "holdout_validation_dict_fulldf = {\"LR\":{\"name\":\"LR (Full Dataset)\", \"accuracy\":[], \"precision\":[], \"recall\":[], \"confusion_matrix\":[]}}\n",
    "#Holdout Run\n",
    "for i in range(0, num_runs):\n",
    "  X_train, X_test, y_train, y_test = test_train_split_oversample(X,y)\n",
    "  X_train, X_test = scale_data_zscore(X_train, X_test)\n",
    "  model.fit(X_train, y_train)\n",
    "  y_pred = model.predict(X_test)\n",
    "  add_result(holdout_validation_dict_fulldf, 'LR', y_test, y_pred, multi=True)"
   ]
  },
  {
   "cell_type": "code",
   "execution_count": null,
   "metadata": {
    "colab": {
     "base_uri": "https://localhost:8080/"
    },
    "outputId": "b7a42d4e-12ca-4853-d963-2f3146b62687",
    "id": "1bb1L_BJe_fr"
   },
   "outputs": [
    {
     "name": "stdout",
     "output_type": "stream",
     "text": [
      "After 1000:\n",
      "Accuracy: 0.965759, (+/- 0.026)\n",
      "Percision: 0.964094, (+/- 0.029)\n",
      "Recall: 0.962721, (+/- 0.029)\n"
     ]
    }
   ],
   "source": [
    "# Final Results\n",
    "print(f\"After {num_runs}:\")\n",
    "print_holdout_results(holdout_validation_dict_fulldf)"
   ]
  },
  {
   "cell_type": "markdown",
   "metadata": {
    "id": "0Ln6LHure_fr"
   },
   "source": [
    "## PMLW No Hyper Parameters"
   ]
  },
  {
   "cell_type": "code",
   "execution_count": null,
   "metadata": {
    "id": "E4dKkOB2e_fs"
   },
   "outputs": [],
   "source": [
    "# Model\n",
    "model = LogisticRegression()"
   ]
  },
  {
   "cell_type": "code",
   "execution_count": null,
   "metadata": {
    "id": "k4gIsj3ne_fs"
   },
   "outputs": [],
   "source": [
    "# Data Split\n",
    "df = impute_missing_values_KNN()\n",
    "X = df.iloc[:,:len(df.columns)-1]\n",
    "y = df.iloc[:,len(df.columns)-1]\n",
    "X = return_features_selected_data_sets(X, 'RFE - RF')"
   ]
  },
  {
   "cell_type": "code",
   "execution_count": null,
   "metadata": {
    "id": "pJj9VC7ue_fs"
   },
   "outputs": [],
   "source": [
    "# Results Dict\n",
    "holdout_validation_dict_nohyper = {\"LR\":{\"name\":\"LR (No Hyper Params)\", \"accuracy\":[], \"precision\":[], \"recall\":[], \"confusion_matrix\":[]}}\n",
    "#Holdout Run\n",
    "for i in range(0, num_runs):\n",
    "  X_train, X_test, y_train, y_test = test_train_split_oversample(X,y)\n",
    "  X_train, X_test = scale_data_zscore(X_train, X_test)\n",
    "  model.fit(X_train, y_train)\n",
    "  y_pred = model.predict(X_test)\n",
    "  add_result(holdout_validation_dict_nohyper, 'LR', y_test, y_pred, multi=True)"
   ]
  },
  {
   "cell_type": "code",
   "execution_count": null,
   "metadata": {
    "colab": {
     "base_uri": "https://localhost:8080/"
    },
    "outputId": "d755f69f-42c9-44a1-c6b2-f62fc8f8d46e",
    "id": "EkSDlqABe_fs"
   },
   "outputs": [
    {
     "name": "stdout",
     "output_type": "stream",
     "text": [
      "After 1000:\n",
      "Accuracy: 0.9783, (+/- 0.021)\n",
      "Percision: 0.977423, (+/- 0.023)\n",
      "Recall: 0.976115, (+/- 0.024)\n"
     ]
    }
   ],
   "source": [
    "# Final Results\n",
    "print(f\"After {num_runs}:\")\n",
    "print_holdout_results(holdout_validation_dict_nohyper)"
   ]
  },
  {
   "cell_type": "markdown",
   "metadata": {
    "id": "HJE2lynXe_ft"
   },
   "source": [
    "## PMLW No SMOTE\n",
    "\n"
   ]
  },
  {
   "cell_type": "code",
   "execution_count": null,
   "metadata": {
    "colab": {
     "base_uri": "https://localhost:8080/",
     "height": 75
    },
    "outputId": "1458bb62-d60d-4a9b-82ed-8c569e0cac19",
    "id": "_2iE_OJre_ft"
   },
   "outputs": [
    {
     "data": {
      "text/html": [
       "<style>#sk-container-id-4 {color: black;background-color: white;}#sk-container-id-4 pre{padding: 0;}#sk-container-id-4 div.sk-toggleable {background-color: white;}#sk-container-id-4 label.sk-toggleable__label {cursor: pointer;display: block;width: 100%;margin-bottom: 0;padding: 0.3em;box-sizing: border-box;text-align: center;}#sk-container-id-4 label.sk-toggleable__label-arrow:before {content: \"▸\";float: left;margin-right: 0.25em;color: #696969;}#sk-container-id-4 label.sk-toggleable__label-arrow:hover:before {color: black;}#sk-container-id-4 div.sk-estimator:hover label.sk-toggleable__label-arrow:before {color: black;}#sk-container-id-4 div.sk-toggleable__content {max-height: 0;max-width: 0;overflow: hidden;text-align: left;background-color: #f0f8ff;}#sk-container-id-4 div.sk-toggleable__content pre {margin: 0.2em;color: black;border-radius: 0.25em;background-color: #f0f8ff;}#sk-container-id-4 input.sk-toggleable__control:checked~div.sk-toggleable__content {max-height: 200px;max-width: 100%;overflow: auto;}#sk-container-id-4 input.sk-toggleable__control:checked~label.sk-toggleable__label-arrow:before {content: \"▾\";}#sk-container-id-4 div.sk-estimator input.sk-toggleable__control:checked~label.sk-toggleable__label {background-color: #d4ebff;}#sk-container-id-4 div.sk-label input.sk-toggleable__control:checked~label.sk-toggleable__label {background-color: #d4ebff;}#sk-container-id-4 input.sk-hidden--visually {border: 0;clip: rect(1px 1px 1px 1px);clip: rect(1px, 1px, 1px, 1px);height: 1px;margin: -1px;overflow: hidden;padding: 0;position: absolute;width: 1px;}#sk-container-id-4 div.sk-estimator {font-family: monospace;background-color: #f0f8ff;border: 1px dotted black;border-radius: 0.25em;box-sizing: border-box;margin-bottom: 0.5em;}#sk-container-id-4 div.sk-estimator:hover {background-color: #d4ebff;}#sk-container-id-4 div.sk-parallel-item::after {content: \"\";width: 100%;border-bottom: 1px solid gray;flex-grow: 1;}#sk-container-id-4 div.sk-label:hover label.sk-toggleable__label {background-color: #d4ebff;}#sk-container-id-4 div.sk-serial::before {content: \"\";position: absolute;border-left: 1px solid gray;box-sizing: border-box;top: 0;bottom: 0;left: 50%;z-index: 0;}#sk-container-id-4 div.sk-serial {display: flex;flex-direction: column;align-items: center;background-color: white;padding-right: 0.2em;padding-left: 0.2em;position: relative;}#sk-container-id-4 div.sk-item {position: relative;z-index: 1;}#sk-container-id-4 div.sk-parallel {display: flex;align-items: stretch;justify-content: center;background-color: white;position: relative;}#sk-container-id-4 div.sk-item::before, #sk-container-id-4 div.sk-parallel-item::before {content: \"\";position: absolute;border-left: 1px solid gray;box-sizing: border-box;top: 0;bottom: 0;left: 50%;z-index: -1;}#sk-container-id-4 div.sk-parallel-item {display: flex;flex-direction: column;z-index: 1;position: relative;background-color: white;}#sk-container-id-4 div.sk-parallel-item:first-child::after {align-self: flex-end;width: 50%;}#sk-container-id-4 div.sk-parallel-item:last-child::after {align-self: flex-start;width: 50%;}#sk-container-id-4 div.sk-parallel-item:only-child::after {width: 0;}#sk-container-id-4 div.sk-dashed-wrapped {border: 1px dashed gray;margin: 0 0.4em 0.5em 0.4em;box-sizing: border-box;padding-bottom: 0.4em;background-color: white;}#sk-container-id-4 div.sk-label label {font-family: monospace;font-weight: bold;display: inline-block;line-height: 1.2em;}#sk-container-id-4 div.sk-label-container {text-align: center;}#sk-container-id-4 div.sk-container {/* jupyter's `normalize.less` sets `[hidden] { display: none; }` but bootstrap.min.css set `[hidden] { display: none !important; }` so we also need the `!important` here to be able to override the default hidden behavior on the sphinx rendered scikit-learn.org. See: https://github.com/scikit-learn/scikit-learn/issues/21755 */display: inline-block !important;position: relative;}#sk-container-id-4 div.sk-text-repr-fallback {display: none;}</style><div id=\"sk-container-id-4\" class=\"sk-top-container\"><div class=\"sk-text-repr-fallback\"><pre>LogisticRegression(C=10, max_iter=50, solver=&#x27;newton-cg&#x27;)</pre><b>In a Jupyter environment, please rerun this cell to show the HTML representation or trust the notebook. <br />On GitHub, the HTML representation is unable to render, please try loading this page with nbviewer.org.</b></div><div class=\"sk-container\" hidden><div class=\"sk-item\"><div class=\"sk-estimator sk-toggleable\"><input class=\"sk-toggleable__control sk-hidden--visually\" id=\"sk-estimator-id-4\" type=\"checkbox\" checked><label for=\"sk-estimator-id-4\" class=\"sk-toggleable__label sk-toggleable__label-arrow\">LogisticRegression</label><div class=\"sk-toggleable__content\"><pre>LogisticRegression(C=10, max_iter=50, solver=&#x27;newton-cg&#x27;)</pre></div></div></div></div></div>"
      ],
      "text/plain": [
       "LogisticRegression(C=10, max_iter=50, solver='newton-cg')"
      ]
     },
     "execution_count": 225,
     "metadata": {},
     "output_type": "execute_result"
    }
   ],
   "source": [
    "# Model\n",
    "model = LogisticRegression()\n",
    "model.set_params(**hyper_params_dict['LR']['best_params'])"
   ]
  },
  {
   "cell_type": "code",
   "execution_count": null,
   "metadata": {
    "id": "9XZC_ghLe_ft"
   },
   "outputs": [],
   "source": [
    "df = impute_missing_values_KNN()\n",
    "X = df.iloc[:,:len(df.columns)-1]\n",
    "y = df.iloc[:,len(df.columns)-1]\n",
    "X = return_features_selected_data_sets(X, 'RFE - RF')"
   ]
  },
  {
   "cell_type": "code",
   "execution_count": null,
   "metadata": {
    "id": "52iOeXOoe_ft"
   },
   "outputs": [],
   "source": [
    "holdout_validation_dict_nosmote = {\"LR\":{\"name\":\"LR (No SMOTE)\", \"accuracy\":[], \"precision\":[], \"recall\":[], \"confusion_matrix\":[]}}\n",
    "for i in range(0, num_runs):\n",
    "  X_train, X_test, y_train, y_test = train_test_split(X, y, test_size=0.3, random_state=None)\n",
    "  X_train, X_test = scale_data_zscore(X_train, X_test)\n",
    "  model.fit(X_train, y_train)\n",
    "  y_pred = model.predict(X_test)\n",
    "  add_result(holdout_validation_dict_nosmote, 'LR', y_test, y_pred, multi=True)"
   ]
  },
  {
   "cell_type": "code",
   "execution_count": null,
   "metadata": {
    "colab": {
     "base_uri": "https://localhost:8080/"
    },
    "outputId": "76038752-5abe-4510-8ce0-e8faa63f6bd4",
    "id": "49-bgj1he_ft"
   },
   "outputs": [
    {
     "name": "stdout",
     "output_type": "stream",
     "text": [
      "After 1000:\n",
      "Accuracy: 0.975118, (+/- 0.021)\n",
      "Percision: 0.975319, (+/- 0.022)\n",
      "Recall: 0.971487, (+/- 0.024)\n"
     ]
    }
   ],
   "source": [
    "print(f\"After {num_runs}:\")\n",
    "print_holdout_results(holdout_validation_dict_nosmote)"
   ]
  },
  {
   "cell_type": "markdown",
   "metadata": {
    "id": "FUEzgW-Ie_ft"
   },
   "source": [
    "## PMLW No SMOTE Or Hyperparams"
   ]
  },
  {
   "cell_type": "code",
   "execution_count": null,
   "metadata": {
    "id": "UGEzgJM-e_fu"
   },
   "outputs": [],
   "source": [
    "model = LogisticRegression()"
   ]
  },
  {
   "cell_type": "code",
   "execution_count": null,
   "metadata": {
    "id": "C3CYOAnIe_fu"
   },
   "outputs": [],
   "source": [
    "df = impute_missing_values_KNN()\n",
    "X = df.iloc[:,:len(df.columns)-1]\n",
    "y = df.iloc[:,len(df.columns)-1]\n",
    "X = return_features_selected_data_sets(X, 'RFE - RF')"
   ]
  },
  {
   "cell_type": "code",
   "execution_count": null,
   "metadata": {
    "id": "goUYBtE3e_fu"
   },
   "outputs": [],
   "source": [
    "holdout_validation_dict_nosmotehyper = {\"LR\":{\"name\":\"LR (No SMOTE/Hyper)\", \"accuracy\":[], \"precision\":[], \"recall\":[], \"confusion_matrix\":[]}}\n",
    "for i in range(0, num_runs):\n",
    "  X_train, X_test, y_train, y_test = train_test_split(X, y, test_size=0.3, random_state=None)\n",
    "  X_train, X_test = scale_data_zscore(X_train, X_test)\n",
    "  model.fit(X_train, y_train)\n",
    "  y_pred = model.predict(X_test)\n",
    "  add_result(holdout_validation_dict_nosmotehyper, 'LR', y_test, y_pred, multi=True)"
   ]
  },
  {
   "cell_type": "code",
   "execution_count": null,
   "metadata": {
    "colab": {
     "base_uri": "https://localhost:8080/"
    },
    "outputId": "11b36ff3-ae28-450c-ec49-3b3f57b3b3de",
    "id": "fZzThAdVe_fu"
   },
   "outputs": [
    {
     "name": "stdout",
     "output_type": "stream",
     "text": [
      "After 1000:\n",
      "Accuracy: 0.978182, (+/- 0.021)\n",
      "Percision: 0.979562, (+/- 0.02)\n",
      "Recall: 0.973816, (+/- 0.026)\n"
     ]
    }
   ],
   "source": [
    "print(f\"After {num_runs}:\")\n",
    "print_holdout_results(holdout_validation_dict_nosmotehyper)"
   ]
  },
  {
   "cell_type": "markdown",
   "metadata": {
    "id": "KeqTcN012EPJ"
   },
   "source": [
    "# Final Results"
   ]
  },
  {
   "cell_type": "code",
   "execution_count": null,
   "metadata": {
    "id": "C8cqPR_B2Dzv"
   },
   "outputs": [],
   "source": [
    "def format_results_dicts(all_dicts):\n",
    "  holding_arr = []\n",
    "  for result_dict in all_dicts:\n",
    "    for key, results in result_dict.items():\n",
    "      results['accuracy'] = round((np.array(results['accuracy']).mean()),6)\n",
    "      results['precision'] = round((np.array(results['precision']).mean()),6)\n",
    "      results['recall'] = round((np.array(results['recall']).mean()),6)\n",
    "      results.pop('confusion_matrix', None)\n",
    "      holding_arr.append(result_dict)\n",
    "  return holding_arr"
   ]
  },
  {
   "cell_type": "code",
   "execution_count": null,
   "metadata": {
    "id": "xXlzFfOp8Y41"
   },
   "outputs": [],
   "source": [
    "def concat_all_dicts(all_dicts):\n",
    "  holding_arr = []\n",
    "  for results_dict in all_dicts:\n",
    "    holding_arr.append(create_results_frame(results_dict))\n",
    "  return_frame = concat_frames(holding_arr)\n",
    "  return return_frame"
   ]
  },
  {
   "cell_type": "code",
   "execution_count": null,
   "metadata": {
    "colab": {
     "base_uri": "https://localhost:8080/",
     "height": 255
    },
    "id": "r9Vm7tSb4ecj",
    "outputId": "170e0f3a-49ed-4fe8-ca7d-7ce1e3e6d1cd"
   },
   "outputs": [
    {
     "name": "stdout",
     "output_type": "stream",
     "text": [
      "Holdout Validation Results After 1000 Runs:\n"
     ]
    },
    {
     "data": {
      "text/html": [
       "<style type=\"text/css\">\n",
       "</style>\n",
       "<table id=\"T_1060d\" class=\"dataframe\">\n",
       "  <thead>\n",
       "    <tr>\n",
       "      <th id=\"T_1060d_level0_col0\" class=\"col_heading level0 col0\" >Model</th>\n",
       "      <th id=\"T_1060d_level0_col1\" class=\"col_heading level0 col1\" >Accuracy</th>\n",
       "      <th id=\"T_1060d_level0_col2\" class=\"col_heading level0 col2\" >Precision</th>\n",
       "      <th id=\"T_1060d_level0_col3\" class=\"col_heading level0 col3\" >Recall</th>\n",
       "    </tr>\n",
       "  </thead>\n",
       "  <tbody>\n",
       "    <tr>\n",
       "      <td id=\"T_1060d_row0_col0\" class=\"data row0 col0\" >LR (Full Dataset)</td>\n",
       "      <td id=\"T_1060d_row0_col1\" class=\"data row0 col1\" >0.965759</td>\n",
       "      <td id=\"T_1060d_row0_col2\" class=\"data row0 col2\" >0.964094</td>\n",
       "      <td id=\"T_1060d_row0_col3\" class=\"data row0 col3\" >0.962721</td>\n",
       "    </tr>\n",
       "    <tr>\n",
       "      <td id=\"T_1060d_row1_col0\" class=\"data row1 col0\" >LR (RFE-SVM)</td>\n",
       "      <td id=\"T_1060d_row1_col1\" class=\"data row1 col1\" >0.968276</td>\n",
       "      <td id=\"T_1060d_row1_col2\" class=\"data row1 col2\" >0.966173</td>\n",
       "      <td id=\"T_1060d_row1_col3\" class=\"data row1 col3\" >0.966212</td>\n",
       "    </tr>\n",
       "    <tr>\n",
       "      <td id=\"T_1060d_row2_col0\" class=\"data row2 col0\" >LR (PMLW)</td>\n",
       "      <td id=\"T_1060d_row2_col1\" class=\"data row2 col1\" >0.973124</td>\n",
       "      <td id=\"T_1060d_row2_col2\" class=\"data row2 col2\" >0.971489</td>\n",
       "      <td id=\"T_1060d_row2_col3\" class=\"data row2 col3\" >0.971094</td>\n",
       "    </tr>\n",
       "    <tr>\n",
       "      <td id=\"T_1060d_row3_col0\" class=\"data row3 col0\" >LR (No SMOTE)</td>\n",
       "      <td id=\"T_1060d_row3_col1\" class=\"data row3 col1\" >0.975118</td>\n",
       "      <td id=\"T_1060d_row3_col2\" class=\"data row3 col2\" >0.975319</td>\n",
       "      <td id=\"T_1060d_row3_col3\" class=\"data row3 col3\" >0.971487</td>\n",
       "    </tr>\n",
       "    <tr>\n",
       "      <td id=\"T_1060d_row4_col0\" class=\"data row4 col0\" >LR (No SMOTE/Hyper)</td>\n",
       "      <td id=\"T_1060d_row4_col1\" class=\"data row4 col1\" >0.978182</td>\n",
       "      <td id=\"T_1060d_row4_col2\" class=\"data row4 col2\" >0.979562</td>\n",
       "      <td id=\"T_1060d_row4_col3\" class=\"data row4 col3\" >0.973816</td>\n",
       "    </tr>\n",
       "    <tr>\n",
       "      <td id=\"T_1060d_row5_col0\" class=\"data row5 col0\" >LR (No Hyper Params)</td>\n",
       "      <td id=\"T_1060d_row5_col1\" class=\"data row5 col1\" >0.978300</td>\n",
       "      <td id=\"T_1060d_row5_col2\" class=\"data row5 col2\" >0.977423</td>\n",
       "      <td id=\"T_1060d_row5_col3\" class=\"data row5 col3\" >0.976115</td>\n",
       "    </tr>\n",
       "  </tbody>\n",
       "</table>\n"
      ],
      "text/plain": [
       "<pandas.io.formats.style.Styler at 0x7ae78d247f10>"
      ]
     },
     "execution_count": 235,
     "metadata": {},
     "output_type": "execute_result"
    }
   ],
   "source": [
    "all_holdout_dicts = format_results_dicts([holdout_validation_dict_RFERF, holdout_validation_dict_RFESVM, holdout_validation_dict_fulldf, holdout_validation_dict_nohyper, holdout_validation_dict_nosmote, holdout_validation_dict_nosmotehyper])\n",
    "all_holdout_frames = []\n",
    "\n",
    "for result_dict in all_holdout_dicts:\n",
    "  all_holdout_frames.append(create_results_frame(result_dict))\n",
    "\n",
    "formatted_holdout_frame = concat_frames(all_holdout_frames, drop_std=False)\n",
    "print(f\"Holdout Validation Results After {num_runs} Runs:\")\n",
    "show_results_frame(formatted_holdout_frame)"
   ]
  },
  {
   "cell_type": "markdown",
   "metadata": {
    "id": "R1Sa1k93Ndu6"
   },
   "source": [
    "## Final Comparison Chart"
   ]
  },
  {
   "cell_type": "code",
   "execution_count": null,
   "metadata": {
    "colab": {
     "base_uri": "https://localhost:8080/",
     "height": 707
    },
    "id": "r0SW8fCWBJ_Q",
    "outputId": "5af3eaff-fa1f-42dc-9a8c-f8394a26bc97"
   },
   "outputs": [
    {
     "data": {
      "image/png": "[encoded data removed]",
      "text/plain": [
       "<Figure size 1500x700 with 1 Axes>"
      ]
     },
     "metadata": {},
     "output_type": "display_data"
    }
   ],
   "source": [
    "show_results_chart(formatted_holdout_frame, \"Holdout Validation Comparisons\")"
   ]
  },
  {
   "cell_type": "markdown",
   "source": [
    "## Comments\n",
    "\n",
    "The LR (PMLW No Smote/Hyper)is the highest-performing model across all three metrics. With the PMLW (*) being the second best, this suggests that the implementation of hyperparameter optimization was either not conducted correctly or just not advantageous for logistic regression. There is also a degradation in performance when using SMOTE() and as such it is recommended to be dropped from the final PMLW.\n",
    "\n",
    "The LR (PMLW No Smote/Hyper)is the highest-performing model across precision and accuracy. With the PMLW No Hyper being the best scoring in terms of recall. This suggests that the implementation of hyperparameter optimization was either not conducted correctly or just not advantageous for logistic\n",
    "regression. There is also a degradation in performance when using SMOTE() and as such it is recommended to be dropped from the final PMLW."
   ],
   "metadata": {
    "id": "k79x0zRgfrFr"
   }
  },
  {
   "cell_type": "markdown",
   "source": [
    "# Conclusion\n",
    "\n",
    "In conclusion when looking at the application of the PMLW to a real-life situation one must account for the representability of the dataset to the problem. Breast cancer disproportionately affects women as\n",
    "highlighted by Anderson et al., 2010, “Of all breast cancers, men with breast cancer make up less than 1%” as well as those of older age. With no indication of a patient’s gender or age within the dataset, it is impossible to gauge the representability. While the PMLW is robust and achieves great scores in all three metrics it is important to reflect on the changes the original dataset has gone through to achieve this. At multiple stages, data has been manipulated using KNN Imputation, Z-Score normalization, and the creation of synthetic records using SMOTE oversampling. The original dataset is lost in a mixture of manipulated variables, which while yielding impressive results the records do not portray the true characteristic of a breast mass tumour especially those created via SMOTE(). As the results indicate the oversampling (SMOTE()) of the dataset and Hyper Parameter Optimization (gridSearchCV()) degraded the performance of the machine learning model. Therefore, it should be noted that PMLW does not demonstrate usability in a real-world domain, nor does it provide a robust machine learning workflow but should be used as a platform for further research into areas of class imbalance and hyper optimization."
   ],
   "metadata": {
    "id": "5Yf9fZggf35p"
   }
  }
 ]
}
